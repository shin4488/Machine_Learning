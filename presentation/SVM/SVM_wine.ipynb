{
 "cells": [
  {
   "cell_type": "markdown",
   "metadata": {},
   "source": [
    "## サポートベクターマシンを使ったワイン種類の分類\n",
    "サポートベクターマシンの理論(scikit learnドキュメント) : \n",
    "https://scikit-learn.org/stable/modules/svm.html#classification\n",
    "\n",
    "サポートベクターマシン(分類)は、**1.4.7.1. SVC**を参照"
   ]
  },
  {
   "cell_type": "markdown",
   "metadata": {},
   "source": [
    "## スケーリング(標準化について)\n",
    "### 「アルコール度数」と「アミノ酸の量」の2つの変数を用いた例"
   ]
  },
  {
   "cell_type": "code",
   "execution_count": 77,
   "metadata": {},
   "outputs": [
    {
     "name": "stdout",
     "output_type": "stream",
     "text": [
      "(データ数, 特徴量数) → (178, 13)\n",
      "\n",
      "ワインの種類(ラベル)\n",
      "class_1    71\n",
      "class_0    59\n",
      "class_2    48\n",
      "dtype: int64\n",
      "\n",
      "alcohol:アルコール度数, proline:アミノ酸\n"
     ]
    },
    {
     "data": {
      "text/html": [
       "<div>\n",
       "<style scoped>\n",
       "    .dataframe tbody tr th:only-of-type {\n",
       "        vertical-align: middle;\n",
       "    }\n",
       "\n",
       "    .dataframe tbody tr th {\n",
       "        vertical-align: top;\n",
       "    }\n",
       "\n",
       "    .dataframe thead th {\n",
       "        text-align: right;\n",
       "    }\n",
       "</style>\n",
       "<table border=\"1\" class=\"dataframe\">\n",
       "  <thead>\n",
       "    <tr style=\"text-align: right;\">\n",
       "      <th></th>\n",
       "      <th>alcohol</th>\n",
       "      <th>malic_acid</th>\n",
       "      <th>ash</th>\n",
       "      <th>alcalinity_of_ash</th>\n",
       "      <th>magnesium</th>\n",
       "      <th>total_phenols</th>\n",
       "      <th>flavanoids</th>\n",
       "      <th>nonflavanoid_phenols</th>\n",
       "      <th>proanthocyanins</th>\n",
       "      <th>color_intensity</th>\n",
       "      <th>hue</th>\n",
       "      <th>od280/od315_of_diluted_wines</th>\n",
       "      <th>proline</th>\n",
       "    </tr>\n",
       "  </thead>\n",
       "  <tbody>\n",
       "    <tr>\n",
       "      <th>0</th>\n",
       "      <td>14.23</td>\n",
       "      <td>1.71</td>\n",
       "      <td>2.43</td>\n",
       "      <td>15.6</td>\n",
       "      <td>127.0</td>\n",
       "      <td>2.80</td>\n",
       "      <td>3.06</td>\n",
       "      <td>0.28</td>\n",
       "      <td>2.29</td>\n",
       "      <td>5.64</td>\n",
       "      <td>1.04</td>\n",
       "      <td>3.92</td>\n",
       "      <td>1065.0</td>\n",
       "    </tr>\n",
       "    <tr>\n",
       "      <th>1</th>\n",
       "      <td>13.20</td>\n",
       "      <td>1.78</td>\n",
       "      <td>2.14</td>\n",
       "      <td>11.2</td>\n",
       "      <td>100.0</td>\n",
       "      <td>2.65</td>\n",
       "      <td>2.76</td>\n",
       "      <td>0.26</td>\n",
       "      <td>1.28</td>\n",
       "      <td>4.38</td>\n",
       "      <td>1.05</td>\n",
       "      <td>3.40</td>\n",
       "      <td>1050.0</td>\n",
       "    </tr>\n",
       "    <tr>\n",
       "      <th>2</th>\n",
       "      <td>13.16</td>\n",
       "      <td>2.36</td>\n",
       "      <td>2.67</td>\n",
       "      <td>18.6</td>\n",
       "      <td>101.0</td>\n",
       "      <td>2.80</td>\n",
       "      <td>3.24</td>\n",
       "      <td>0.30</td>\n",
       "      <td>2.81</td>\n",
       "      <td>5.68</td>\n",
       "      <td>1.03</td>\n",
       "      <td>3.17</td>\n",
       "      <td>1185.0</td>\n",
       "    </tr>\n",
       "    <tr>\n",
       "      <th>3</th>\n",
       "      <td>14.37</td>\n",
       "      <td>1.95</td>\n",
       "      <td>2.50</td>\n",
       "      <td>16.8</td>\n",
       "      <td>113.0</td>\n",
       "      <td>3.85</td>\n",
       "      <td>3.49</td>\n",
       "      <td>0.24</td>\n",
       "      <td>2.18</td>\n",
       "      <td>7.80</td>\n",
       "      <td>0.86</td>\n",
       "      <td>3.45</td>\n",
       "      <td>1480.0</td>\n",
       "    </tr>\n",
       "    <tr>\n",
       "      <th>4</th>\n",
       "      <td>13.24</td>\n",
       "      <td>2.59</td>\n",
       "      <td>2.87</td>\n",
       "      <td>21.0</td>\n",
       "      <td>118.0</td>\n",
       "      <td>2.80</td>\n",
       "      <td>2.69</td>\n",
       "      <td>0.39</td>\n",
       "      <td>1.82</td>\n",
       "      <td>4.32</td>\n",
       "      <td>1.04</td>\n",
       "      <td>2.93</td>\n",
       "      <td>735.0</td>\n",
       "    </tr>\n",
       "  </tbody>\n",
       "</table>\n",
       "</div>"
      ],
      "text/plain": [
       "   alcohol  malic_acid   ash  alcalinity_of_ash  magnesium  total_phenols  \\\n",
       "0    14.23        1.71  2.43               15.6      127.0           2.80   \n",
       "1    13.20        1.78  2.14               11.2      100.0           2.65   \n",
       "2    13.16        2.36  2.67               18.6      101.0           2.80   \n",
       "3    14.37        1.95  2.50               16.8      113.0           3.85   \n",
       "4    13.24        2.59  2.87               21.0      118.0           2.80   \n",
       "\n",
       "   flavanoids  nonflavanoid_phenols  proanthocyanins  color_intensity   hue  \\\n",
       "0        3.06                  0.28             2.29             5.64  1.04   \n",
       "1        2.76                  0.26             1.28             4.38  1.05   \n",
       "2        3.24                  0.30             2.81             5.68  1.03   \n",
       "3        3.49                  0.24             2.18             7.80  0.86   \n",
       "4        2.69                  0.39             1.82             4.32  1.04   \n",
       "\n",
       "   od280/od315_of_diluted_wines  proline  \n",
       "0                          3.92   1065.0  \n",
       "1                          3.40   1050.0  \n",
       "2                          3.17   1185.0  \n",
       "3                          3.45   1480.0  \n",
       "4                          2.93    735.0  "
      ]
     },
     "execution_count": 77,
     "metadata": {},
     "output_type": "execute_result"
    }
   ],
   "source": [
    "#データの読み込み\n",
    "from sklearn.datasets import load_wine\n",
    "import pandas as pd\n",
    "wine_data = load_wine()\n",
    "df_wine_features = pd.DataFrame(wine_data.data, columns=wine_data.feature_names)\n",
    "df_wine_label = pd.Series(wine_data.target)\n",
    "print(f\"(データ数, 特徴量数) → {df_wine_features.shape}\\n\")\n",
    "print(f\"ワインの種類(ラベル)\\n{df_wine_label.replace([0,1,2], wine_data.target_names).value_counts()}\\n\")\n",
    "print(\"alcohol:アルコール度数, proline:アミノ酸\")\n",
    "df_wine_features.head()"
   ]
  },
  {
   "cell_type": "code",
   "execution_count": 90,
   "metadata": {},
   "outputs": [
    {
     "name": "stdout",
     "output_type": "stream",
     "text": [
      "標準化前のデータ(上位5件)\n",
      "   alcohol  proline\n",
      "0    14.23   1065.0\n",
      "1    13.20   1050.0\n",
      "2    13.16   1185.0\n",
      "3    14.37   1480.0\n",
      "4    13.24    735.0\n",
      "\n",
      "標準化後のデータ(上位5件)\n"
     ]
    },
    {
     "data": {
      "text/html": [
       "<div>\n",
       "<style scoped>\n",
       "    .dataframe tbody tr th:only-of-type {\n",
       "        vertical-align: middle;\n",
       "    }\n",
       "\n",
       "    .dataframe tbody tr th {\n",
       "        vertical-align: top;\n",
       "    }\n",
       "\n",
       "    .dataframe thead th {\n",
       "        text-align: right;\n",
       "    }\n",
       "</style>\n",
       "<table border=\"1\" class=\"dataframe\">\n",
       "  <thead>\n",
       "    <tr style=\"text-align: right;\">\n",
       "      <th></th>\n",
       "      <th>alcohol</th>\n",
       "      <th>proline</th>\n",
       "    </tr>\n",
       "  </thead>\n",
       "  <tbody>\n",
       "    <tr>\n",
       "      <th>0</th>\n",
       "      <td>1.452455</td>\n",
       "      <td>0.782868</td>\n",
       "    </tr>\n",
       "    <tr>\n",
       "      <th>1</th>\n",
       "      <td>0.289066</td>\n",
       "      <td>0.740152</td>\n",
       "    </tr>\n",
       "    <tr>\n",
       "      <th>2</th>\n",
       "      <td>0.243886</td>\n",
       "      <td>1.124598</td>\n",
       "    </tr>\n",
       "    <tr>\n",
       "      <th>3</th>\n",
       "      <td>1.610586</td>\n",
       "      <td>1.964684</td>\n",
       "    </tr>\n",
       "    <tr>\n",
       "      <th>4</th>\n",
       "      <td>0.334246</td>\n",
       "      <td>-0.156889</td>\n",
       "    </tr>\n",
       "  </tbody>\n",
       "</table>\n",
       "</div>"
      ],
      "text/plain": [
       "    alcohol   proline\n",
       "0  1.452455  0.782868\n",
       "1  0.289066  0.740152\n",
       "2  0.243886  1.124598\n",
       "3  1.610586  1.964684\n",
       "4  0.334246 -0.156889"
      ]
     },
     "execution_count": 90,
     "metadata": {},
     "output_type": "execute_result"
    }
   ],
   "source": [
    "#標準化(データを平均0,分散1にする処理)\n",
    "from sklearn.preprocessing import StandardScaler\n",
    "non_scaled_feature = df_wine_features.loc[:, [\"alcohol\", \"proline\"]][:130]\n",
    "standard_scale = StandardScaler()\n",
    "scaled_feature = standard_scale.fit_transform(df_wine_features.loc[:, [\"alcohol\", \"proline\"]][:130])\n",
    "df_scaled_feature = pd.DataFrame(scaled_feature, columns=[\"alcohol\", \"proline\"])\n",
    "print(\"標準化前のデータ(上位5件)\")\n",
    "print(non_scaled_feature.head())\n",
    "print(\"\\n標準化後のデータ(上位5件)\")\n",
    "df_scaled_feature.head()"
   ]
  },
  {
   "cell_type": "code",
   "execution_count": 91,
   "metadata": {},
   "outputs": [
    {
     "data": {
      "text/plain": [
       "Text(0.5, 1.0, 'scaled data')"
      ]
     },
     "execution_count": 91,
     "metadata": {},
     "output_type": "execute_result"
    },
    {
     "data": {
      "image/png": "[encoded data removed]",
      "text/plain": [
       "<Figure size 864x288 with 2 Axes>"
      ]
     },
     "metadata": {
      "needs_background": "light"
     },
     "output_type": "display_data"
    }
   ],
   "source": [
    "#図示\n",
    "import matplotlib.pyplot as plt\n",
    "%matplotlib inline\n",
    "plt.style.use('seaborn-bright')\n",
    "fig, (axis_left, axis_right) = plt.subplots(ncols=2, figsize=(12,4))\n",
    "#scatter graph of non scaled data\n",
    "axis_left.scatter(non_scaled_feature[\"alcohol\"], non_scaled_feature[\"proline\"])\n",
    "axis_left.set_xlabel(\"alcohol\", fontsize=15)\n",
    "axis_left.set_ylabel(\"proline\", fontsize=15)\n",
    "axis_left.set_title(\"non scaled data\", fontsize=20)\n",
    "#scatter graph of scaled data\n",
    "axis_right.scatter(df_scaled_feature[\"alcohol\"], df_scaled_feature[\"proline\"], c='red')\n",
    "axis_right.set_xlabel(\"alcohol\", fontsize=15)\n",
    "axis_right.set_ylabel(\"proline\", fontsize=15)\n",
    "axis_right.set_title(\"scaled data\", fontsize=20)"
   ]
  },
  {
   "cell_type": "code",
   "execution_count": 97,
   "metadata": {},
   "outputs": [],
   "source": [
    "#2つの説明変数のみで学習\n",
    "X = non_scaled_feature\n",
    "X_scaled = df_scaled_feature\n",
    "y = df_wine_label[:130]\n",
    "from sklearn.model_selection import train_test_split\n",
    "X_non_scaled_train, X_non_scaled_test, y_train, y_test = train_test_split(X, y, test_size=0.5, random_state=1)\n",
    "X_scaled_train, X_scaled_test, y_train, y_test = train_test_split(X_scaled, y, test_size=0.5, random_state=1)"
   ]
  },
  {
   "cell_type": "code",
   "execution_count": 102,
   "metadata": {},
   "outputs": [
    {
     "name": "stdout",
     "output_type": "stream",
     "text": [
      "non scaled data accuracy : 0.9692307692307692\n",
      "scaled data accuracy : 0.9692307692307692\n"
     ]
    }
   ],
   "source": [
    "#サポートベクターマシンを用いた学習(グリッドサーチは無し)\n",
    "from sklearn.svm import SVC\n",
    "from sklearn.metrics import accuracy_score\n",
    "svc_non_scaled_clf = SVC(C=1, kernel=\"linear\")\n",
    "svc_scaled_clf = SVC(C=1, kernel=\"linear\")\n",
    "#traininig non scaled data\n",
    "svc_non_scaled_clf.fit(X_non_scaled_train, y_train)\n",
    "y_wine_non_scaled_pred = svc_non_scaled_clf.predict(X_non_scaled_test)\n",
    "#training scaled data\n",
    "svc_scaled_clf.fit(X_scaled_train, y_train)\n",
    "y_wine_scaled_pred = svc_scaled_clf.predict(X_scaled_test)\n",
    "print(f\"non scaled data accuracy : {accuracy_score(y_test, y_wine_non_scaled_pred)}\")\n",
    "print(f\"scaled data accuracy : {accuracy_score(y_test, y_wine_scaled_pred)}\")"
   ]
  },
  {
   "cell_type": "code",
   "execution_count": 131,
   "metadata": {},
   "outputs": [
    {
     "name": "stdout",
     "output_type": "stream",
     "text": [
      "訓練データの散布図\n"
     ]
    },
    {
     "data": {
      "image/png": "[encoded data removed]",
      "text/plain": [
       "<Figure size 1008x360 with 2 Axes>"
      ]
     },
     "metadata": {
      "needs_background": "light"
     },
     "output_type": "display_data"
    }
   ],
   "source": [
    "from mlxtend.plotting import plot_decision_regions\n",
    "import numpy as np\n",
    "print(\"訓練データの散布図\")\n",
    "plt.figure(figsize=(14,5))\n",
    "plt.subplot(1,2,1)\n",
    "plot_decision_regions(np.asarray(X_non_scaled_train), np.asarray(y_train), clf=svc_non_scaled_clf, res=0.2)\n",
    "plt.legend(loc=\"lower right\")\n",
    "plt.xlabel(\"alcohol\", fontsize=15)\n",
    "plt.ylabel(\"proline\", fontsize=15)\n",
    "plt.title(\"non scaled data\", fontsize=20)\n",
    "plt.subplot(1,2,2)\n",
    "plot_decision_regions(np.asarray(X_scaled_train), np.asarray(y_train), clf=svc_scaled_clf, res=0.2)\n",
    "plt.legend(loc=\"lower right\")\n",
    "plt.xlabel(\"alcohol\", fontsize=15)\n",
    "plt.ylabel(\"proline\", fontsize=15)\n",
    "plt.title(\"scaled data\", fontsize=20)\n",
    "plt.show()"
   ]
  },
  {
   "cell_type": "code",
   "execution_count": 140,
   "metadata": {},
   "outputs": [
    {
     "name": "stdout",
     "output_type": "stream",
     "text": [
      "全訓練データ数(スケーリングしている方も、していない方も同数) : 65個\n",
      "スケーリングしていない訓練データのサポートベクトル数 [クラス0 クラス1] : [4 5]\n",
      "スケーリングした訓練データのサポートベクトル数 [クラス0 クラス1] : [6 6]\n"
     ]
    }
   ],
   "source": [
    "print(f\"全訓練データ数(スケーリングしている方も、していない方も同数) : {X_non_scaled_train.shape[0]}個\")\n",
    "print(f\"スケーリングしていない訓練データのサポートベクトル数 [クラス0 クラス1] : {svc_non_scaled_clf.n_support_}\")\n",
    "print(f\"スケーリングした訓練データのサポートベクトル数 [クラス0 クラス1] : {svc_scaled_clf.n_support_}\")"
   ]
  },
  {
   "cell_type": "markdown",
   "metadata": {},
   "source": [
    "## サポートベクターマシンのハイパーパラメータの意味\n",
    "### *C, gamma, kernel*"
   ]
  },
  {
   "cell_type": "code",
   "execution_count": null,
   "metadata": {},
   "outputs": [],
   "source": []
  }
 ],
 "metadata": {
  "kernelspec": {
   "display_name": "Python 3",
   "language": "python",
   "name": "python3"
  },
  "language_info": {
   "codemirror_mode": {
    "name": "ipython",
    "version": 3
   },
   "file_extension": ".py",
   "mimetype": "text/x-python",
   "name": "python",
   "nbconvert_exporter": "python",
   "pygments_lexer": "ipython3",
   "version": "3.7.3"
  }
 },
 "nbformat": 4,
 "nbformat_minor": 2
}
