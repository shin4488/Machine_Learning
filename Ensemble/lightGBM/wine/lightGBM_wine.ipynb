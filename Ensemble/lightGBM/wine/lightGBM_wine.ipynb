{
 "cells": [
  {
   "cell_type": "code",
   "execution_count": 3,
   "metadata": {},
   "outputs": [],
   "source": [
    "import lightgbm as lgb\n",
    "from sklearn.datasets import load_iris\n",
    "import pandas as pd"
   ]
  },
  {
   "cell_type": "code",
   "execution_count": 25,
   "metadata": {},
   "outputs": [
    {
     "name": "stdout",
     "output_type": "stream",
     "text": [
      "the numbers of (data, features) : (150, 4)\n"
     ]
    },
    {
     "data": {
      "text/html": [
       "<div>\n",
       "<style scoped>\n",
       "    .dataframe tbody tr th:only-of-type {\n",
       "        vertical-align: middle;\n",
       "    }\n",
       "\n",
       "    .dataframe tbody tr th {\n",
       "        vertical-align: top;\n",
       "    }\n",
       "\n",
       "    .dataframe thead th {\n",
       "        text-align: right;\n",
       "    }\n",
       "</style>\n",
       "<table border=\"1\" class=\"dataframe\">\n",
       "  <thead>\n",
       "    <tr style=\"text-align: right;\">\n",
       "      <th></th>\n",
       "      <th>sepal length (cm)</th>\n",
       "      <th>sepal width (cm)</th>\n",
       "      <th>petal length (cm)</th>\n",
       "      <th>petal width (cm)</th>\n",
       "    </tr>\n",
       "  </thead>\n",
       "  <tbody>\n",
       "    <tr>\n",
       "      <th>0</th>\n",
       "      <td>5.1</td>\n",
       "      <td>3.5</td>\n",
       "      <td>1.4</td>\n",
       "      <td>0.2</td>\n",
       "    </tr>\n",
       "    <tr>\n",
       "      <th>1</th>\n",
       "      <td>4.9</td>\n",
       "      <td>3.0</td>\n",
       "      <td>1.4</td>\n",
       "      <td>0.2</td>\n",
       "    </tr>\n",
       "    <tr>\n",
       "      <th>2</th>\n",
       "      <td>4.7</td>\n",
       "      <td>3.2</td>\n",
       "      <td>1.3</td>\n",
       "      <td>0.2</td>\n",
       "    </tr>\n",
       "    <tr>\n",
       "      <th>3</th>\n",
       "      <td>4.6</td>\n",
       "      <td>3.1</td>\n",
       "      <td>1.5</td>\n",
       "      <td>0.2</td>\n",
       "    </tr>\n",
       "    <tr>\n",
       "      <th>4</th>\n",
       "      <td>5.0</td>\n",
       "      <td>3.6</td>\n",
       "      <td>1.4</td>\n",
       "      <td>0.2</td>\n",
       "    </tr>\n",
       "  </tbody>\n",
       "</table>\n",
       "</div>"
      ],
      "text/plain": [
       "   sepal length (cm)  sepal width (cm)  petal length (cm)  petal width (cm)\n",
       "0                5.1               3.5                1.4               0.2\n",
       "1                4.9               3.0                1.4               0.2\n",
       "2                4.7               3.2                1.3               0.2\n",
       "3                4.6               3.1                1.5               0.2\n",
       "4                5.0               3.6                1.4               0.2"
      ]
     },
     "execution_count": 25,
     "metadata": {},
     "output_type": "execute_result"
    }
   ],
   "source": [
    "iris = load_iris()\n",
    "df_data = pd.DataFrame(iris.data, columns=iris.feature_names)\n",
    "print(f\"the numbers of (data, features) : {df_data.shape}\")\n",
    "df_data.head()"
   ]
  },
  {
   "cell_type": "code",
   "execution_count": 60,
   "metadata": {},
   "outputs": [
    {
     "data": {
      "text/plain": [
       "versicolor    50\n",
       "setosa        50\n",
       "virginica     50\n",
       "dtype: int64"
      ]
     },
     "execution_count": 60,
     "metadata": {},
     "output_type": "execute_result"
    }
   ],
   "source": [
    "df_label_name = pd.Series(iris.target_names)\n",
    "df_label = pd.Series(iris.target)\n",
    "df_label.replace([0,1,2], df_label_name).value_counts()"
   ]
  },
  {
   "cell_type": "code",
   "execution_count": 26,
   "metadata": {},
   "outputs": [
    {
     "name": "stdout",
     "output_type": "stream",
     "text": [
      "<class 'pandas.core.frame.DataFrame'>\n",
      "RangeIndex: 150 entries, 0 to 149\n",
      "Data columns (total 4 columns):\n",
      "sepal length (cm)    150 non-null float64\n",
      "sepal width (cm)     150 non-null float64\n",
      "petal length (cm)    150 non-null float64\n",
      "petal width (cm)     150 non-null float64\n",
      "dtypes: float64(4)\n",
      "memory usage: 4.8 KB\n"
     ]
    }
   ],
   "source": [
    "df_data.info()"
   ]
  },
  {
   "cell_type": "code",
   "execution_count": 98,
   "metadata": {},
   "outputs": [
    {
     "name": "stdout",
     "output_type": "stream",
     "text": [
      "the numbers of train data : (63, 4), validation data : (27, 4), test data : (60, 4)\n"
     ]
    }
   ],
   "source": [
    "from sklearn.model_selection import train_test_split\n",
    "X = df_data\n",
    "y = df_label\n",
    "X_train, X_test, y_train, y_test = train_test_split(X, y, test_size=0.4, random_state=1)\n",
    "X_train, X_val, y_train, y_val = train_test_split(X_train, y_train, test_size=0.3, random_state=1)\n",
    "print(f\"the numbers of train data : {X_train.shape}, validation data : {X_val.shape}, test data : {X_test.shape}\")"
   ]
  },
  {
   "cell_type": "code",
   "execution_count": 111,
   "metadata": {},
   "outputs": [
    {
     "name": "stdout",
     "output_type": "stream",
     "text": [
      "[1]\tvalid_0's multi_logloss: 0.996395\n",
      "Training until validation scores don't improve for 10 rounds.\n",
      "[2]\tvalid_0's multi_logloss: 0.884883\n",
      "[3]\tvalid_0's multi_logloss: 0.793054\n",
      "[4]\tvalid_0's multi_logloss: 0.710339\n",
      "[5]\tvalid_0's multi_logloss: 0.641409\n",
      "[6]\tvalid_0's multi_logloss: 0.579501\n",
      "[7]\tvalid_0's multi_logloss: 0.523571\n",
      "[8]\tvalid_0's multi_logloss: 0.476738\n",
      "[9]\tvalid_0's multi_logloss: 0.432666\n",
      "[10]\tvalid_0's multi_logloss: 0.395741\n",
      "[11]\tvalid_0's multi_logloss: 0.360569\n",
      "[12]\tvalid_0's multi_logloss: 0.331141\n",
      "[13]\tvalid_0's multi_logloss: 0.302797\n",
      "[14]\tvalid_0's multi_logloss: 0.279148\n",
      "[15]\tvalid_0's multi_logloss: 0.258747\n",
      "[16]\tvalid_0's multi_logloss: 0.239594\n",
      "[17]\tvalid_0's multi_logloss: 0.222956\n",
      "[18]\tvalid_0's multi_logloss: 0.207239\n",
      "[19]\tvalid_0's multi_logloss: 0.191337\n",
      "[20]\tvalid_0's multi_logloss: 0.179497\n",
      "[21]\tvalid_0's multi_logloss: 0.16758\n",
      "[22]\tvalid_0's multi_logloss: 0.157193\n",
      "[23]\tvalid_0's multi_logloss: 0.148114\n",
      "[24]\tvalid_0's multi_logloss: 0.139413\n",
      "[25]\tvalid_0's multi_logloss: 0.131771\n",
      "[26]\tvalid_0's multi_logloss: 0.124453\n",
      "[27]\tvalid_0's multi_logloss: 0.117194\n",
      "[28]\tvalid_0's multi_logloss: 0.113072\n",
      "[29]\tvalid_0's multi_logloss: 0.106858\n",
      "[30]\tvalid_0's multi_logloss: 0.101425\n",
      "[31]\tvalid_0's multi_logloss: 0.095587\n",
      "[32]\tvalid_0's multi_logloss: 0.0910454\n",
      "[33]\tvalid_0's multi_logloss: 0.0869026\n",
      "[34]\tvalid_0's multi_logloss: 0.0828816\n",
      "[35]\tvalid_0's multi_logloss: 0.0792901\n",
      "[36]\tvalid_0's multi_logloss: 0.0758462\n",
      "[37]\tvalid_0's multi_logloss: 0.0715825\n",
      "[38]\tvalid_0's multi_logloss: 0.0703659\n",
      "[39]\tvalid_0's multi_logloss: 0.0671488\n",
      "[40]\tvalid_0's multi_logloss: 0.0652594\n",
      "[41]\tvalid_0's multi_logloss: 0.0643308\n",
      "[42]\tvalid_0's multi_logloss: 0.0624072\n",
      "[43]\tvalid_0's multi_logloss: 0.0617239\n",
      "[44]\tvalid_0's multi_logloss: 0.0599631\n",
      "[45]\tvalid_0's multi_logloss: 0.0574684\n",
      "[46]\tvalid_0's multi_logloss: 0.0571109\n",
      "[47]\tvalid_0's multi_logloss: 0.0566764\n",
      "[48]\tvalid_0's multi_logloss: 0.0552125\n",
      "[49]\tvalid_0's multi_logloss: 0.054892\n",
      "[50]\tvalid_0's multi_logloss: 0.0547057\n",
      "[51]\tvalid_0's multi_logloss: 0.0522276\n",
      "[52]\tvalid_0's multi_logloss: 0.052036\n",
      "[53]\tvalid_0's multi_logloss: 0.0519469\n",
      "[54]\tvalid_0's multi_logloss: 0.0499768\n",
      "[55]\tvalid_0's multi_logloss: 0.049903\n",
      "[56]\tvalid_0's multi_logloss: 0.049655\n",
      "[57]\tvalid_0's multi_logloss: 0.0478372\n",
      "[58]\tvalid_0's multi_logloss: 0.0478319\n",
      "[59]\tvalid_0's multi_logloss: 0.0461344\n",
      "[60]\tvalid_0's multi_logloss: 0.0461805\n",
      "[61]\tvalid_0's multi_logloss: 0.0462844\n",
      "[62]\tvalid_0's multi_logloss: 0.0461579\n",
      "[63]\tvalid_0's multi_logloss: 0.0442288\n",
      "[64]\tvalid_0's multi_logloss: 0.0443999\n",
      "[65]\tvalid_0's multi_logloss: 0.0445581\n",
      "[66]\tvalid_0's multi_logloss: 0.0430697\n",
      "[67]\tvalid_0's multi_logloss: 0.043249\n",
      "[68]\tvalid_0's multi_logloss: 0.041846\n",
      "[69]\tvalid_0's multi_logloss: 0.042115\n",
      "[70]\tvalid_0's multi_logloss: 0.042327\n",
      "[71]\tvalid_0's multi_logloss: 0.0406578\n",
      "[72]\tvalid_0's multi_logloss: 0.0409761\n",
      "[73]\tvalid_0's multi_logloss: 0.0412137\n",
      "[74]\tvalid_0's multi_logloss: 0.0399443\n",
      "[75]\tvalid_0's multi_logloss: 0.040299\n",
      "[76]\tvalid_0's multi_logloss: 0.0402761\n",
      "[77]\tvalid_0's multi_logloss: 0.0390674\n",
      "[78]\tvalid_0's multi_logloss: 0.0388122\n",
      "[79]\tvalid_0's multi_logloss: 0.0388113\n",
      "[80]\tvalid_0's multi_logloss: 0.0373951\n",
      "[81]\tvalid_0's multi_logloss: 0.0378206\n",
      "[82]\tvalid_0's multi_logloss: 0.0381116\n",
      "[83]\tvalid_0's multi_logloss: 0.0379131\n",
      "[84]\tvalid_0's multi_logloss: 0.0365578\n",
      "[85]\tvalid_0's multi_logloss: 0.0370118\n",
      "[86]\tvalid_0's multi_logloss: 0.0373214\n",
      "[87]\tvalid_0's multi_logloss: 0.0363129\n",
      "[88]\tvalid_0's multi_logloss: 0.036782\n",
      "[89]\tvalid_0's multi_logloss: 0.0368203\n",
      "[90]\tvalid_0's multi_logloss: 0.0358475\n",
      "[91]\tvalid_0's multi_logloss: 0.036233\n",
      "[92]\tvalid_0's multi_logloss: 0.0352995\n",
      "[93]\tvalid_0's multi_logloss: 0.0356944\n",
      "[94]\tvalid_0's multi_logloss: 0.0347971\n",
      "[95]\tvalid_0's multi_logloss: 0.0353042\n",
      "[96]\tvalid_0's multi_logloss: 0.0353553\n",
      "[97]\tvalid_0's multi_logloss: 0.0341908\n",
      "[98]\tvalid_0's multi_logloss: 0.034716\n",
      "[99]\tvalid_0's multi_logloss: 0.0350517\n",
      "[100]\tvalid_0's multi_logloss: 0.03421\n",
      "Did not meet early stopping. Best iteration is:\n",
      "[97]\tvalid_0's multi_logloss: 0.0341908\n"
     ]
    }
   ],
   "source": [
    "#make input formatted data\n",
    "lgb_train = lgb.Dataset(X_train, y_train)\n",
    "#make validation formatted data\n",
    "lgb_val = lgb.Dataset(X_val, y_val, reference=lgb_train)\n",
    "#hyper parameters\n",
    "params = {\n",
    "    \"objective\":\"multiclass\",\n",
    "    \"task\":\"train\",\n",
    "    \"num_class\":3,\n",
    "    \"metric\":\"multi_logloss\",\n",
    "    \"num_leaves\":70\n",
    "}\n",
    "#training, then make a model\n",
    "gbm = lgb.train(params, lgb_train, num_boost_round=100, valid_sets=lgb_val, early_stopping_rounds=10)"
   ]
  },
  {
   "cell_type": "code",
   "execution_count": 115,
   "metadata": {},
   "outputs": [],
   "source": [
    "import numpy as np\n",
    "#array of probability for each label 0:virginica, 1:setosa, 2:versicolor\n",
    "y_pred = gbm.predict(X_test, num_iteration=gbm.best_iteration)\n",
    "#get highest value from probability array(y_pred), then it becomes the output predicted value\n",
    "y_pred = np.argmax(y_pred, axis=1)"
   ]
  },
  {
   "cell_type": "code",
   "execution_count": 113,
   "metadata": {},
   "outputs": [
    {
     "data": {
      "text/plain": [
       "'96.7%'"
      ]
     },
     "execution_count": 113,
     "metadata": {},
     "output_type": "execute_result"
    }
   ],
   "source": [
    "from sklearn.metrics import accuracy_score\n",
    "#calculate accuracy score\n",
    "accuracy = accuracy_score(y_test, y_pred)\n",
    "str(round(accuracy, 3)*100) + \"%\""
   ]
  },
  {
   "cell_type": "code",
   "execution_count": 114,
   "metadata": {},
   "outputs": [
    {
     "data": {
      "text/plain": [
       "Text(91.68, 0.5, 'actual value')"
      ]
     },
     "execution_count": 114,
     "metadata": {},
     "output_type": "execute_result"
    },
    {
     "data": {
      "image/png": "[encoded data removed]",
      "text/plain": [
       "<Figure size 432x288 with 1 Axes>"
      ]
     },
     "metadata": {
      "needs_background": "light"
     },
     "output_type": "display_data"
    }
   ],
   "source": [
    "#make confusin matrix\n",
    "from sklearn.metrics import confusion_matrix\n",
    "import seaborn as sns\n",
    "import matplotlib.pyplot as plt\n",
    "%matplotlib inline\n",
    "confusion_mat = confusion_matrix(y_test, y_pred)\n",
    "sns.heatmap(confusion_mat, square=True, annot=True, cbar=False, fmt=\"d\", cmap=\"RdPu\")\n",
    "plt.xlabel(\"predicted value\", fontsize=18)\n",
    "plt.ylabel(\"actual value\", fontsize=18)"
   ]
  }
 ],
 "metadata": {
  "kernelspec": {
   "display_name": "Python 3",
   "language": "python",
   "name": "python3"
  },
  "language_info": {
   "codemirror_mode": {
    "name": "ipython",
    "version": 3
   },
   "file_extension": ".py",
   "mimetype": "text/x-python",
   "name": "python",
   "nbconvert_exporter": "python",
   "pygments_lexer": "ipython3",
   "version": "3.7.3"
  }
 },
 "nbformat": 4,
 "nbformat_minor": 2
}
