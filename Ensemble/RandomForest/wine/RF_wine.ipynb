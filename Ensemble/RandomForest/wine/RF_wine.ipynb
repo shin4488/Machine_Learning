{
 "cells": [
  {
   "cell_type": "markdown",
   "metadata": {},
   "source": [
    "### Randon Forest\n",
    "ワインの種類をランダムフォレストを使って分類\n",
    "\n",
    "分類精度の比較のために、決定木を使った分類も行う\n",
    "(決定木を複数回行って、多数決をとったり平均をとったものがランダムフォレストである)\n",
    "#### 流れ\n",
    "1. データの取得・確認\n",
    "\n",
    "2. データを特徴量とラベルに分離\n",
    "\n",
    "3. 特徴量・ラベルともに訓練データとテストデータに分離\n",
    "\n",
    "4. 訓練データよりモデルを作成、テストデータからモデルの当てはまりの良さ(ここでは正解率を使用)を確認\n",
    "\n",
    "5. グリッドサーチにより、パラメータを複数候補用意した時の精度を確認\n",
    "\n",
    "6. 特徴量の重要度確認"
   ]
  },
  {
   "cell_type": "code",
   "execution_count": 36,
   "metadata": {},
   "outputs": [],
   "source": [
    "%matplotlib inline\n",
    "import warnings\n",
    "warnings.filterwarnings('ignore')\n",
    "#データの取得\n",
    "from sklearn.datasets import load_wine\n",
    "wine_data = load_wine()"
   ]
  },
  {
   "cell_type": "code",
   "execution_count": 2,
   "metadata": {},
   "outputs": [
    {
     "name": "stdout",
     "output_type": "stream",
     "text": [
      "(全データ数, 特徴量数) →  (178, 13) \n",
      "\n",
      "ワインの種類(=ラベル、今回は3種類)とそれぞれのデータ数\n",
      "class_1    71\n",
      "class_0    59\n",
      "class_2    48\n",
      "dtype: int64 \n",
      "\n",
      "ワインの特徴量(数値は全178データのうち5データの例)\n"
     ]
    },
    {
     "data": {
      "text/html": [
       "<div>\n",
       "<style scoped>\n",
       "    .dataframe tbody tr th:only-of-type {\n",
       "        vertical-align: middle;\n",
       "    }\n",
       "\n",
       "    .dataframe tbody tr th {\n",
       "        vertical-align: top;\n",
       "    }\n",
       "\n",
       "    .dataframe thead th {\n",
       "        text-align: right;\n",
       "    }\n",
       "</style>\n",
       "<table border=\"1\" class=\"dataframe\">\n",
       "  <thead>\n",
       "    <tr style=\"text-align: right;\">\n",
       "      <th></th>\n",
       "      <th>alcohol</th>\n",
       "      <th>malic_acid</th>\n",
       "      <th>ash</th>\n",
       "      <th>alcalinity_of_ash</th>\n",
       "      <th>magnesium</th>\n",
       "      <th>total_phenols</th>\n",
       "      <th>flavanoids</th>\n",
       "      <th>nonflavanoid_phenols</th>\n",
       "      <th>proanthocyanins</th>\n",
       "      <th>color_intensity</th>\n",
       "      <th>hue</th>\n",
       "      <th>od280/od315_of_diluted_wines</th>\n",
       "      <th>proline</th>\n",
       "    </tr>\n",
       "  </thead>\n",
       "  <tbody>\n",
       "    <tr>\n",
       "      <th>0</th>\n",
       "      <td>14.23</td>\n",
       "      <td>1.71</td>\n",
       "      <td>2.43</td>\n",
       "      <td>15.6</td>\n",
       "      <td>127.0</td>\n",
       "      <td>2.80</td>\n",
       "      <td>3.06</td>\n",
       "      <td>0.28</td>\n",
       "      <td>2.29</td>\n",
       "      <td>5.64</td>\n",
       "      <td>1.04</td>\n",
       "      <td>3.92</td>\n",
       "      <td>1065.0</td>\n",
       "    </tr>\n",
       "    <tr>\n",
       "      <th>1</th>\n",
       "      <td>13.20</td>\n",
       "      <td>1.78</td>\n",
       "      <td>2.14</td>\n",
       "      <td>11.2</td>\n",
       "      <td>100.0</td>\n",
       "      <td>2.65</td>\n",
       "      <td>2.76</td>\n",
       "      <td>0.26</td>\n",
       "      <td>1.28</td>\n",
       "      <td>4.38</td>\n",
       "      <td>1.05</td>\n",
       "      <td>3.40</td>\n",
       "      <td>1050.0</td>\n",
       "    </tr>\n",
       "    <tr>\n",
       "      <th>2</th>\n",
       "      <td>13.16</td>\n",
       "      <td>2.36</td>\n",
       "      <td>2.67</td>\n",
       "      <td>18.6</td>\n",
       "      <td>101.0</td>\n",
       "      <td>2.80</td>\n",
       "      <td>3.24</td>\n",
       "      <td>0.30</td>\n",
       "      <td>2.81</td>\n",
       "      <td>5.68</td>\n",
       "      <td>1.03</td>\n",
       "      <td>3.17</td>\n",
       "      <td>1185.0</td>\n",
       "    </tr>\n",
       "    <tr>\n",
       "      <th>3</th>\n",
       "      <td>14.37</td>\n",
       "      <td>1.95</td>\n",
       "      <td>2.50</td>\n",
       "      <td>16.8</td>\n",
       "      <td>113.0</td>\n",
       "      <td>3.85</td>\n",
       "      <td>3.49</td>\n",
       "      <td>0.24</td>\n",
       "      <td>2.18</td>\n",
       "      <td>7.80</td>\n",
       "      <td>0.86</td>\n",
       "      <td>3.45</td>\n",
       "      <td>1480.0</td>\n",
       "    </tr>\n",
       "    <tr>\n",
       "      <th>4</th>\n",
       "      <td>13.24</td>\n",
       "      <td>2.59</td>\n",
       "      <td>2.87</td>\n",
       "      <td>21.0</td>\n",
       "      <td>118.0</td>\n",
       "      <td>2.80</td>\n",
       "      <td>2.69</td>\n",
       "      <td>0.39</td>\n",
       "      <td>1.82</td>\n",
       "      <td>4.32</td>\n",
       "      <td>1.04</td>\n",
       "      <td>2.93</td>\n",
       "      <td>735.0</td>\n",
       "    </tr>\n",
       "  </tbody>\n",
       "</table>\n",
       "</div>"
      ],
      "text/plain": [
       "   alcohol  malic_acid   ash  alcalinity_of_ash  magnesium  total_phenols  \\\n",
       "0    14.23        1.71  2.43               15.6      127.0           2.80   \n",
       "1    13.20        1.78  2.14               11.2      100.0           2.65   \n",
       "2    13.16        2.36  2.67               18.6      101.0           2.80   \n",
       "3    14.37        1.95  2.50               16.8      113.0           3.85   \n",
       "4    13.24        2.59  2.87               21.0      118.0           2.80   \n",
       "\n",
       "   flavanoids  nonflavanoid_phenols  proanthocyanins  color_intensity   hue  \\\n",
       "0        3.06                  0.28             2.29             5.64  1.04   \n",
       "1        2.76                  0.26             1.28             4.38  1.05   \n",
       "2        3.24                  0.30             2.81             5.68  1.03   \n",
       "3        3.49                  0.24             2.18             7.80  0.86   \n",
       "4        2.69                  0.39             1.82             4.32  1.04   \n",
       "\n",
       "   od280/od315_of_diluted_wines  proline  \n",
       "0                          3.92   1065.0  \n",
       "1                          3.40   1050.0  \n",
       "2                          3.17   1185.0  \n",
       "3                          3.45   1480.0  \n",
       "4                          2.93    735.0  "
      ]
     },
     "execution_count": 2,
     "metadata": {},
     "output_type": "execute_result"
    }
   ],
   "source": [
    "#データの中身の確認\n",
    "import pandas as pd\n",
    "df_wine_data = pd.DataFrame(wine_data.data, columns=wine_data.feature_names)\n",
    "df_wine_class = pd.Series(wine_data.target)\n",
    "print(\"(全データ数, 特徴量数) → \", df_wine_data.shape, \"\\n\")\n",
    "print(\"ワインの種類(=ラベル、今回は3種類)とそれぞれのデータ数\")\n",
    "#ワイン数値ラベル(0,1,2)を文字ラベルに置き換えて、ラベルごとのデータ数を取得\n",
    "print(df_wine_class.replace([0,1,2], wine_data.target_names).value_counts(), \"\\n\")\n",
    "print(\"ワインの特徴量(数値は全178データのうち5データの例)\")\n",
    "df_wine_data.head()"
   ]
  },
  {
   "cell_type": "code",
   "execution_count": 3,
   "metadata": {},
   "outputs": [
    {
     "name": "stdout",
     "output_type": "stream",
     "text": [
      "<class 'pandas.core.frame.DataFrame'>\n",
      "RangeIndex: 178 entries, 0 to 177\n",
      "Data columns (total 13 columns):\n",
      "alcohol                         178 non-null float64\n",
      "malic_acid                      178 non-null float64\n",
      "ash                             178 non-null float64\n",
      "alcalinity_of_ash               178 non-null float64\n",
      "magnesium                       178 non-null float64\n",
      "total_phenols                   178 non-null float64\n",
      "flavanoids                      178 non-null float64\n",
      "nonflavanoid_phenols            178 non-null float64\n",
      "proanthocyanins                 178 non-null float64\n",
      "color_intensity                 178 non-null float64\n",
      "hue                             178 non-null float64\n",
      "od280/od315_of_diluted_wines    178 non-null float64\n",
      "proline                         178 non-null float64\n",
      "dtypes: float64(13)\n",
      "memory usage: 18.2 KB\n"
     ]
    }
   ],
   "source": [
    "#欠損値はなく、質的データもないため、今回データの前処理は行わない\n",
    "df_wine_data.info()"
   ]
  },
  {
   "cell_type": "code",
   "execution_count": 4,
   "metadata": {},
   "outputs": [],
   "source": [
    "#データを特徴量とラベルに分離\n",
    "x = df_wine_data\n",
    "y = df_wine_class"
   ]
  },
  {
   "cell_type": "code",
   "execution_count": 5,
   "metadata": {},
   "outputs": [],
   "source": [
    "#特徴量・ラベルともに訓練データとテストデータに分離\n",
    "from sklearn.model_selection import train_test_split\n",
    "x_train, x_test, y_train, y_test = train_test_split(x, y, test_size=0.4, shuffle=True, random_state=0)"
   ]
  },
  {
   "cell_type": "code",
   "execution_count": 6,
   "metadata": {},
   "outputs": [
    {
     "name": "stdout",
     "output_type": "stream",
     "text": [
      "決定木での正解率 →  0.9166666666666666 \n",
      "\n",
      "決定木での分類結果の混合行列(各行名・列名はラベル)\n"
     ]
    },
    {
     "data": {
      "text/plain": [
       "Text(91.68, 0.5, 'actual value')"
      ]
     },
     "execution_count": 6,
     "metadata": {},
     "output_type": "execute_result"
    },
    {
     "data": {
      "image/png": "[encoded data removed]",
      "text/plain": [
       "<Figure size 432x288 with 1 Axes>"
      ]
     },
     "metadata": {
      "needs_background": "light"
     },
     "output_type": "display_data"
    }
   ],
   "source": [
    "#訓練データよりモデルを作成、テストデータからモデルの当てはまりの良さ(ここでは正解率を使用)を確認\n",
    "from sklearn.metrics import accuracy_score, precision_score, confusion_matrix\n",
    "import seaborn as sns\n",
    "import matplotlib.pyplot as plt\n",
    "#決定木での分類モデル作成\n",
    "from sklearn.tree import DecisionTreeClassifier\n",
    "tree_clf = DecisionTreeClassifier(random_state=0)\n",
    "tree_clf.fit(x_train, y_train)\n",
    "tree_score = tree_clf.score(x_test, y_test)\n",
    "print(\"決定木での正解率 → \", tree_score, \"\\n\")\n",
    "#混合行列の作成(正解値(y_test)と予測値(y_pred_tree)の用意)\n",
    "print(\"決定木での分類結果の混合行列(各行名・列名はラベル)\")\n",
    "y_pred_tree = tree_clf.predict(x_test)\n",
    "mat_tree = confusion_matrix(y_test, y_pred_tree)\n",
    "sns.heatmap(mat_tree, square=True, annot=True, cbar=False, fmt=\"d\", cmap=\"RdPu\")\n",
    "plt.xlabel(\"predicted value\")\n",
    "plt.ylabel(\"actual value\")"
   ]
  },
  {
   "cell_type": "code",
   "execution_count": 7,
   "metadata": {},
   "outputs": [
    {
     "name": "stdout",
     "output_type": "stream",
     "text": [
      "ランダムフォレストでの正解率 →  0.9583333333333334 \n",
      "\n",
      "ランダムフォレストでの分類結果の混合行列(各行名・列名はラベル)\n"
     ]
    },
    {
     "data": {
      "text/plain": [
       "Text(91.68, 0.5, 'actual value')"
      ]
     },
     "execution_count": 7,
     "metadata": {},
     "output_type": "execute_result"
    },
    {
     "data": {
      "image/png": "[encoded data removed]",
      "text/plain": [
       "<Figure size 432x288 with 1 Axes>"
      ]
     },
     "metadata": {
      "needs_background": "light"
     },
     "output_type": "display_data"
    }
   ],
   "source": [
    "#ランダムフォレストでの分類モデル作成\n",
    "from sklearn.ensemble import RandomForestClassifier\n",
    "random_forest_clf = RandomForestClassifier(random_state=0)\n",
    "random_forest_clf.fit(x_train, y_train)\n",
    "random_forest_score = random_forest_clf.score(x_test, y_test)\n",
    "print(\"ランダムフォレストでの正解率 → \", random_forest_score, \"\\n\")\n",
    "#混合行列の作成(正解値(y_test)と予測値(y_pred_random_forest)の用意)\n",
    "print(\"ランダムフォレストでの分類結果の混合行列(各行名・列名はラベル)\")\n",
    "y_pred_random_forest = random_forest_clf.predict(x_test)\n",
    "mat_RF = confusion_matrix(y_test, y_pred_random_forest)\n",
    "sns.heatmap(mat_RF, square=True, annot=True, cbar=False, fmt=\"d\", cmap=\"RdPu\")\n",
    "plt.xlabel(\"predicted value\")\n",
    "plt.ylabel(\"actual value\")"
   ]
  },
  {
   "cell_type": "code",
   "execution_count": 67,
   "metadata": {},
   "outputs": [],
   "source": [
    "#グリッドサーチにより、パラメータを複数候補用意した時の精度を確認\n",
    "from sklearn.model_selection import GridSearchCV\n",
    "import numpy as np\n",
    "parameters = {\"max_depth\": [i for i in range(2,6,2)],\n",
    "              \"max_leaf_nodes\": [i for i in range(10,50,10)], \n",
    "              #\"min_samples_split\": [i for i in range(5,100,5)], \n",
    "              \"min_samples_leaf\": [i for i in range(2,50,5)], \n",
    "              \"max_features\": [\"auto\", \"log2\"], \n",
    "              \"criterion\": [\"gini\", \"entropy\"], \n",
    "              \"class_weight\": [\"balanced\"], \n",
    "              \"min_impurity_decrease\": [i for i in np.arange(0,2.0,0.5)], \n",
    "              \"n_estimators\": [i for i in range(50,200,50)]}\n",
    "#min_samples_split…各ノードの最高データ数(この値以下になるまでノードを分岐させる)\n",
    "#min_samples_leaf…各ノードの最低データ数(この値以下になったら分岐を止める)"
   ]
  },
  {
   "cell_type": "code",
   "execution_count": 68,
   "metadata": {
    "scrolled": true
   },
   "outputs": [
    {
     "name": "stdout",
     "output_type": "stream",
     "text": [
      "Fitting 3 folds for each of 3840 candidates, totalling 11520 fits\n"
     ]
    },
    {
     "name": "stderr",
     "output_type": "stream",
     "text": [
      "[Parallel(n_jobs=-1)]: Using backend LokyBackend with 4 concurrent workers.\n",
      "[Parallel(n_jobs=-1)]: Done  42 tasks      | elapsed:    9.2s\n",
      "[Parallel(n_jobs=-1)]: Done 192 tasks      | elapsed:   15.2s\n",
      "[Parallel(n_jobs=-1)]: Done 442 tasks      | elapsed:   29.5s\n",
      "[Parallel(n_jobs=-1)]: Done 792 tasks      | elapsed:   46.3s\n",
      "[Parallel(n_jobs=-1)]: Done 1242 tasks      | elapsed:  1.2min\n",
      "[Parallel(n_jobs=-1)]: Done 1792 tasks      | elapsed:  1.6min\n",
      "[Parallel(n_jobs=-1)]: Done 2442 tasks      | elapsed:  2.1min\n",
      "[Parallel(n_jobs=-1)]: Done 3192 tasks      | elapsed:  2.7min\n",
      "[Parallel(n_jobs=-1)]: Done 4042 tasks      | elapsed:  3.4min\n",
      "[Parallel(n_jobs=-1)]: Done 4992 tasks      | elapsed:  4.1min\n",
      "[Parallel(n_jobs=-1)]: Done 6042 tasks      | elapsed:  4.8min\n",
      "[Parallel(n_jobs=-1)]: Done 7192 tasks      | elapsed:  5.9min\n",
      "[Parallel(n_jobs=-1)]: Done 8442 tasks      | elapsed:  6.7min\n",
      "[Parallel(n_jobs=-1)]: Done 9792 tasks      | elapsed:  7.6min\n",
      "[Parallel(n_jobs=-1)]: Done 11242 tasks      | elapsed:  8.6min\n",
      "[Parallel(n_jobs=-1)]: Done 11520 out of 11520 | elapsed:  8.8min finished\n"
     ]
    },
    {
     "data": {
      "text/plain": [
       "['RF_GridSearch_wine_ver3.pkl']"
      ]
     },
     "execution_count": 68,
     "metadata": {},
     "output_type": "execute_result"
    }
   ],
   "source": [
    "import warnings\n",
    "warnings.filterwarnings('ignore')\n",
    "RF_gridSearchClf_wine = GridSearchCV(RandomForestClassifier(random_state=0),\n",
    "                                     parameters,\n",
    "                                     cv=3, #クロスバリデーションの分割数\n",
    "                                     verbose=True, #ログ表示\n",
    "                                     n_jobs=-1) #並列処理\n",
    "RF_gridSearchClf_wine.fit(x_train, y_train)\n",
    "#学習済みデータを保存\n",
    "from sklearn.externals import joblib\n",
    "joblib.dump(RF_gridSearchClf_wine, 'RF_GridSearch_wine_ver3.pkl')"
   ]
  },
  {
   "cell_type": "code",
   "execution_count": 76,
   "metadata": {},
   "outputs": [
    {
     "name": "stdout",
     "output_type": "stream",
     "text": [
      "Best parameters:\n",
      "\tclass_weight          : balanced\n",
      "\tcriterion             : gini\n",
      "\tmax_depth             : 2\n",
      "\tmax_features          : auto\n",
      "\tmax_leaf_nodes        : 10\n",
      "\tmin_impurity_decrease : 0.0\n",
      "\tmin_samples_leaf      : 2\n",
      "\tn_estimators          : 50\n",
      "Best cross-validation: 0.9811320754716981\n",
      "Feature Importances:\n",
      "\talcohol                      : 0.081063\n",
      "\tmalic_acid                   : 0.029009\n",
      "\tash                          : 0.008393\n",
      "\talcalinity_of_ash            : 0.028789\n",
      "\tmagnesium                    : 0.011755\n",
      "\ttotal_phenols                : 0.058232\n",
      "\tflavanoids                   : 0.184767\n",
      "\tnonflavanoid_phenols         : 0.009320\n",
      "\tproanthocyanins              : 0.032829\n",
      "\tcolor_intensity              : 0.136374\n",
      "\thue                          : 0.099477\n",
      "\tod280/od315_of_diluted_wines : 0.131839\n",
      "\tproline                      : 0.188154\n"
     ]
    }
   ],
   "source": [
    "#保存したモデルの読み込み\n",
    "from sklearn.externals import joblib\n",
    "RF_gridSearchClf_wine_loaded = joblib.load(\"RF_GridSearch_wine_ver3.pkl\")\n",
    "#グリッドサーチによって決められた最適なパラメータの取得・表示\n",
    "RF_GridSearch_wine_predictor = RF_gridSearchClf_wine_loaded.best_estimator_\n",
    "print('Best parameters:')\n",
    "for key, value in RF_gridSearchClf_wine_loaded.best_params_.items():\n",
    "    print('\\t{0:21s} : {1}'.format(key, value))\n",
    "print('Best cross-validation: {}'.format(RF_gridSearchClf_wine_loaded.best_score_))\n",
    "#各特徴量の重要度\n",
    "print('Feature Importances:')\n",
    "for index, feature_names in enumerate(wine_data.feature_names):\n",
    "    print('\\t{0:28s} : {1:>.6f}'.format(feature_names, predictor.feature_importances_[index]))"
   ]
  },
  {
   "cell_type": "code",
   "execution_count": 77,
   "metadata": {},
   "outputs": [
    {
     "name": "stdout",
     "output_type": "stream",
     "text": [
      "ランダムフォレストでのグリッドサーチ後の正解率 →  0.9722222222222222 \n",
      "\n",
      "ランダムフォレストでグリッドサーチ後の分類結果の混合行列(各行名・列名はラベル)\n"
     ]
    },
    {
     "data": {
      "text/plain": [
       "Text(91.68, 0.5, 'actual value')"
      ]
     },
     "execution_count": 77,
     "metadata": {},
     "output_type": "execute_result"
    },
    {
     "data": {
      "image/png": "[encoded data removed]",
      "text/plain": [
       "<Figure size 432x288 with 1 Axes>"
      ]
     },
     "metadata": {
      "needs_background": "light"
     },
     "output_type": "display_data"
    }
   ],
   "source": [
    "random_forest_GridSearch_score = RF_GridSearch_wine_predictor.score(x_test, y_test)\n",
    "print(\"ランダムフォレストでのグリッドサーチ後の正解率 → \", random_forest_GridSearch_score, \"\\n\")\n",
    "#混合行列の作成(正解値(y_test)と予測値(y_pred_random_forest)の用意)\n",
    "print(\"ランダムフォレストでグリッドサーチ後の分類結果の混合行列(各行名・列名はラベル)\")\n",
    "y_pred_random_forest_GridSearch = RF_GridSearch_wine_predictor.predict(x_test)\n",
    "mat_RF_GridSearch = confusion_matrix(y_test, y_pred_random_forest_GridSearch)\n",
    "sns.heatmap(mat_RF_GridSearch, square=True, annot=True, cbar=False, fmt=\"d\", cmap=\"RdPu\")\n",
    "plt.xlabel(\"predicted value\")\n",
    "plt.ylabel(\"actual value\")"
   ]
  }
 ],
 "metadata": {
  "kernelspec": {
   "display_name": "Python 3",
   "language": "python",
   "name": "python3"
  },
  "language_info": {
   "codemirror_mode": {
    "name": "ipython",
    "version": 3
   },
   "file_extension": ".py",
   "mimetype": "text/x-python",
   "name": "python",
   "nbconvert_exporter": "python",
   "pygments_lexer": "ipython3",
   "version": "3.7.3"
  }
 },
 "nbformat": 4,
 "nbformat_minor": 2
}
