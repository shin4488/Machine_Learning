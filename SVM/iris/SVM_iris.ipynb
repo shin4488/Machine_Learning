{
 "cells": [
  {
   "cell_type": "markdown",
   "metadata": {},
   "source": [
    "# サポートベクターマシンの流れ\n",
    "・サポートベクターマシンのメリット\n",
    "\n",
    "①深層学習するほどデータ数がいらない\n",
    "\n",
    "②データの次元が大きくなっても識別精度がいい\n",
    "\n",
    "③いじるパラメータが少ない\n",
    "\n",
    "・参考サイト\n",
    "https://yolo.love/scikit-learn/iris/"
   ]
  },
  {
   "cell_type": "markdown",
   "metadata": {},
   "source": [
    "# 1. データの読み込み\n",
    "・ファイルの取り込みまたは、データのインポート\n",
    "\n",
    "・データの確認\n",
    "\n",
    "→アヤメデータ\n",
    "\n",
    "→4つの特徴量・データ数と、3つのラベル・各ラベルのデータ数"
   ]
  },
  {
   "cell_type": "code",
   "execution_count": 1,
   "metadata": {},
   "outputs": [
    {
     "name": "stdout",
     "output_type": "stream",
     "text": [
      "(アヤメのデータ数, 特徴量数とラベル数の合計) →  (150, 5) \n",
      "\n",
      "アヤメのラベルと、各ラベルのデータ数\n",
      "Iris-virginica     50\n",
      "Iris-setosa        50\n",
      "Iris-versicolor    50\n",
      "Name: Name, dtype: int64\n"
     ]
    },
    {
     "data": {
      "text/html": [
       "<div>\n",
       "<style scoped>\n",
       "    .dataframe tbody tr th:only-of-type {\n",
       "        vertical-align: middle;\n",
       "    }\n",
       "\n",
       "    .dataframe tbody tr th {\n",
       "        vertical-align: top;\n",
       "    }\n",
       "\n",
       "    .dataframe thead th {\n",
       "        text-align: right;\n",
       "    }\n",
       "</style>\n",
       "<table border=\"1\" class=\"dataframe\">\n",
       "  <thead>\n",
       "    <tr style=\"text-align: right;\">\n",
       "      <th></th>\n",
       "      <th>SepalLength</th>\n",
       "      <th>SepalWidth</th>\n",
       "      <th>PetalLength</th>\n",
       "      <th>PetalWidth</th>\n",
       "      <th>Name</th>\n",
       "    </tr>\n",
       "  </thead>\n",
       "  <tbody>\n",
       "    <tr>\n",
       "      <th>0</th>\n",
       "      <td>5.1</td>\n",
       "      <td>3.5</td>\n",
       "      <td>1.4</td>\n",
       "      <td>0.2</td>\n",
       "      <td>Iris-setosa</td>\n",
       "    </tr>\n",
       "    <tr>\n",
       "      <th>1</th>\n",
       "      <td>4.9</td>\n",
       "      <td>3.0</td>\n",
       "      <td>1.4</td>\n",
       "      <td>0.2</td>\n",
       "      <td>Iris-setosa</td>\n",
       "    </tr>\n",
       "    <tr>\n",
       "      <th>2</th>\n",
       "      <td>4.7</td>\n",
       "      <td>3.2</td>\n",
       "      <td>1.3</td>\n",
       "      <td>0.2</td>\n",
       "      <td>Iris-setosa</td>\n",
       "    </tr>\n",
       "    <tr>\n",
       "      <th>3</th>\n",
       "      <td>4.6</td>\n",
       "      <td>3.1</td>\n",
       "      <td>1.5</td>\n",
       "      <td>0.2</td>\n",
       "      <td>Iris-setosa</td>\n",
       "    </tr>\n",
       "    <tr>\n",
       "      <th>4</th>\n",
       "      <td>5.0</td>\n",
       "      <td>3.6</td>\n",
       "      <td>1.4</td>\n",
       "      <td>0.2</td>\n",
       "      <td>Iris-setosa</td>\n",
       "    </tr>\n",
       "  </tbody>\n",
       "</table>\n",
       "</div>"
      ],
      "text/plain": [
       "   SepalLength  SepalWidth  PetalLength  PetalWidth         Name\n",
       "0          5.1         3.5          1.4         0.2  Iris-setosa\n",
       "1          4.9         3.0          1.4         0.2  Iris-setosa\n",
       "2          4.7         3.2          1.3         0.2  Iris-setosa\n",
       "3          4.6         3.1          1.5         0.2  Iris-setosa\n",
       "4          5.0         3.6          1.4         0.2  Iris-setosa"
      ]
     },
     "execution_count": 1,
     "metadata": {},
     "output_type": "execute_result"
    }
   ],
   "source": [
    "#方法1:csvファイルをpandasで取り込む\n",
    "import pandas as pd\n",
    "iris_data = pd.read_csv(\"iris.csv\", encoding=\"utf-8\")\n",
    "#方法2:scikit-learnからirisデータをインポート\n",
    "#from sklearn.datasets import load_iris\n",
    "#iris_dataset = load_iris()\n",
    "\n",
    "#データを確認する\n",
    "print(\"(アヤメのデータ数, 特徴量数とラベル数の合計) → \", iris_data.shape, \"\\n\")\n",
    "print(\"アヤメのラベルと、各ラベルのデータ数\")\n",
    "print(iris_data[\"Name\"].value_counts())\n",
    "iris_data.head()"
   ]
  },
  {
   "cell_type": "markdown",
   "metadata": {},
   "source": [
    "# 2. データとラベルに分ける\n",
    "・データをラベル(y)と入力データ(x)に分離する"
   ]
  },
  {
   "cell_type": "code",
   "execution_count": 2,
   "metadata": {
    "scrolled": true
   },
   "outputs": [
    {
     "name": "stdout",
     "output_type": "stream",
     "text": [
      "アヤメデータのラベルの一部と、特徴量\n",
      "\n",
      "0    Iris-setosa\n",
      "1    Iris-setosa\n",
      "2    Iris-setosa\n",
      "3    Iris-setosa\n",
      "4    Iris-setosa\n",
      "Name: Name, dtype: object\n"
     ]
    },
    {
     "data": {
      "text/html": [
       "<div>\n",
       "<style scoped>\n",
       "    .dataframe tbody tr th:only-of-type {\n",
       "        vertical-align: middle;\n",
       "    }\n",
       "\n",
       "    .dataframe tbody tr th {\n",
       "        vertical-align: top;\n",
       "    }\n",
       "\n",
       "    .dataframe thead th {\n",
       "        text-align: right;\n",
       "    }\n",
       "</style>\n",
       "<table border=\"1\" class=\"dataframe\">\n",
       "  <thead>\n",
       "    <tr style=\"text-align: right;\">\n",
       "      <th></th>\n",
       "      <th>SepalLength</th>\n",
       "      <th>SepalWidth</th>\n",
       "      <th>PetalLength</th>\n",
       "      <th>PetalWidth</th>\n",
       "    </tr>\n",
       "  </thead>\n",
       "  <tbody>\n",
       "    <tr>\n",
       "      <th>0</th>\n",
       "      <td>5.1</td>\n",
       "      <td>3.5</td>\n",
       "      <td>1.4</td>\n",
       "      <td>0.2</td>\n",
       "    </tr>\n",
       "    <tr>\n",
       "      <th>1</th>\n",
       "      <td>4.9</td>\n",
       "      <td>3.0</td>\n",
       "      <td>1.4</td>\n",
       "      <td>0.2</td>\n",
       "    </tr>\n",
       "    <tr>\n",
       "      <th>2</th>\n",
       "      <td>4.7</td>\n",
       "      <td>3.2</td>\n",
       "      <td>1.3</td>\n",
       "      <td>0.2</td>\n",
       "    </tr>\n",
       "    <tr>\n",
       "      <th>3</th>\n",
       "      <td>4.6</td>\n",
       "      <td>3.1</td>\n",
       "      <td>1.5</td>\n",
       "      <td>0.2</td>\n",
       "    </tr>\n",
       "    <tr>\n",
       "      <th>4</th>\n",
       "      <td>5.0</td>\n",
       "      <td>3.6</td>\n",
       "      <td>1.4</td>\n",
       "      <td>0.2</td>\n",
       "    </tr>\n",
       "  </tbody>\n",
       "</table>\n",
       "</div>"
      ],
      "text/plain": [
       "   SepalLength  SepalWidth  PetalLength  PetalWidth\n",
       "0          5.1         3.5          1.4         0.2\n",
       "1          4.9         3.0          1.4         0.2\n",
       "2          4.7         3.2          1.3         0.2\n",
       "3          4.6         3.1          1.5         0.2\n",
       "4          5.0         3.6          1.4         0.2"
      ]
     },
     "execution_count": 2,
     "metadata": {},
     "output_type": "execute_result"
    }
   ],
   "source": [
    "#アヤメデータをラベル(y)と入力データ(x)に分離する\n",
    "#y=Name列の全行を取得\n",
    "#x=Name以外の列(特徴量)を全行取得\n",
    "y = iris_data.loc[:, \"Name\"]\n",
    "# -> y = iris_data.Name\n",
    "x = iris_data.loc[:, [\"SepalLength\", \"SepalWidth\", \"PetalLength\", \"PetalWidth\"]]\n",
    "print(\"アヤメデータのラベルの一部と、特徴量\\n\")\n",
    "print(y.head())\n",
    "x.head()"
   ]
  },
  {
   "cell_type": "markdown",
   "metadata": {},
   "source": [
    "# 3. 学習用とテスト用データに分ける\n",
    "・xとyを学習用とテスト用に分ける\n",
    "\n",
    "・train_test_splitの使い方\n",
    "\n",
    "→1.戻り値は4つ(xの訓練データ、xのテストデータ、yの訓練データ、yのテストデータ、の順)\n",
    "\n",
    "→2.引数は、①特徴量x、②ラベルy、③テストデータの割合(test_size=)、(④訓練データの割合(train_size=))、\n",
    "   ⑤shuffle=true(デフォルト)のときデータを先頭から順番に分割する、\n",
    "   ⑥random_state=シャッフルするときに、実行するごとにデータの並び順を変えるか(None)変えないか(1)\n",
    "   \n",
    "*テストデータの割合と訓練データの割合の合計が、100%を超える値を指定するとエラーとなる"
   ]
  },
  {
   "cell_type": "code",
   "execution_count": 3,
   "metadata": {},
   "outputs": [
    {
     "name": "stdout",
     "output_type": "stream",
     "text": [
      "(訓練データの特徴量のデータ数, 特徴量の数) →  (120, 4)\n",
      "(テストデータの特徴量のデータ数, 特徴量の数) →  (30, 4) \n",
      "\n",
      "91     Iris-versicolor\n",
      "135     Iris-virginica\n",
      "69     Iris-versicolor\n",
      "128     Iris-virginica\n",
      "114     Iris-virginica\n",
      "Name: Name, dtype: object\n",
      "(訓練データのラベルのデータ数 →  (120,)\n",
      "14         Iris-setosa\n",
      "98     Iris-versicolor\n",
      "75     Iris-versicolor\n",
      "16         Iris-setosa\n",
      "131     Iris-virginica\n",
      "Name: Name, dtype: object\n",
      "(テストデータのラベルのデータ数 →  (30,)\n"
     ]
    }
   ],
   "source": [
    "from sklearn.model_selection import train_test_split\n",
    "# xとyを学習用とテスト用に分離する\n",
    "x_train, x_test, y_train, y_test = train_test_split(x, y, test_size = 0.2, train_size = 0.8, shuffle = True, random_state = 1)\n",
    "print(\"(訓練データの特徴量のデータ数, 特徴量の数) → \", x_train.shape)\n",
    "print(\"(テストデータの特徴量のデータ数, 特徴量の数) → \", x_test.shape, \"\\n\")\n",
    "print(y_train.head())\n",
    "print(\"(訓練データのラベルのデータ数 → \", y_train.shape)\n",
    "print(y_test.head())\n",
    "print(\"(テストデータのラベルのデータ数 → \", y_test.shape)"
   ]
  },
  {
   "cell_type": "markdown",
   "metadata": {},
   "source": [
    "# 4. 学習させて評価する\n",
    "・学習する\n",
    "\n",
    "→ SVC().fit(特徴量(説明変数)の訓練データ, ラベルの訓練データ)\n",
    "\n",
    "★SVC()の引数\n",
    "\n",
    "①C=ソフトマージンの厳しさを表す(Cが大きいほど誤分類を許さない→大きすぎると過学習の原因、デフォルトは1)、②kernel=カーネル関数(線形カーネル，多項式カーネル，RBFカーネル，シグモイドカーネルなどがあるが，基本的にはRBFカーネルを使用)、③gamma=分類の決定境界を精度を決める(gammaが大きいほど決定境界は非線形になる)\n",
    "\n",
    "・評価する\n",
    "\n",
    "→ SVC().predict(特徴量(説明変数)のテストデータ)→ラベルの予測値が返される\n",
    "\n",
    "→ accuracy_score(ラベルの訓練データ, ラベルの予測値)で予測値の正解率が出る\n",
    "\n",
    "*正解率（accuracy）、適合率（precision）、再現率（recall）"
   ]
  },
  {
   "cell_type": "code",
   "execution_count": 4,
   "metadata": {},
   "outputs": [
    {
     "name": "stdout",
     "output_type": "stream",
     "text": [
      "正解率 →  0.9666666666666667\n"
     ]
    }
   ],
   "source": [
    "from sklearn.svm import SVC\n",
    "from sklearn.metrics import accuracy_score\n",
    "# 学習する(clfはclassificationの略語)\n",
    "clf = SVC(gamma = \"auto\")\n",
    "clf.fit(x_train, y_train)\n",
    "# 評価する\n",
    "y_pred = clf.predict(x_test)\n",
    "print(\"正解率 → \", accuracy_score(y_test, y_pred))"
   ]
  },
  {
   "cell_type": "markdown",
   "metadata": {},
   "source": [
    "# (おまけ)グリッドサーチ→より正解率の高くなるパラメータを探索\n",
    "①param_gridで指定した全てのハイパーパラメータの組み合わせでモデルを作成\n",
    "\n",
    "②訓練データの一部を使って交差検証とグリッドサーチを実行\n",
    "\n",
    "③正解率が最も高い時のハイパーパラメータを採用"
   ]
  },
  {
   "cell_type": "code",
   "execution_count": 5,
   "metadata": {},
   "outputs": [
    {
     "name": "stdout",
     "output_type": "stream",
     "text": [
      "Test set score: 1.0\n",
      "Best parameters: {'C': 10, 'gamma': 0.1}\n",
      "Best cross-validation: 0.9809523809523809\n"
     ]
    }
   ],
   "source": [
    "from sklearn.model_selection import GridSearchCV\n",
    "\n",
    "#★パラメータを dict 型で指定\n",
    "param_grid = {'C': [0.001, 0.01, 0.1, 0.5, 1, 5, 10, 50, 100],  'gamma' : [0.001, 0.01, 0.1, 0.5, 1, 5, 10, 50, 100]}\n",
    "\n",
    "# validation setはGridSearchCVが自動で作成してくれるため，訓練データとテストデータの分割のみを実行すればよい\n",
    "x_train, x_test, y_train, y_test = train_test_split(x, y, test_size = 0.3, random_state=1)\n",
    "\n",
    "grid_search = GridSearchCV(SVC(), param_grid, cv=10, iid=True)\n",
    "# GridSearchCVは、訓練データの一部のデータを交差検証とグリッドサーチに使用→訓練データが少なくなるとcv(交差検証の回数)は少なく設定\n",
    "# fit 関数を呼ぶことで交差検証とグリッドサーチがどちらも実行される\n",
    "grid_search.fit(x_train, y_train)\n",
    "\n",
    "print('Test set score: {}'.format(grid_search.score(x_test, y_test)))\n",
    "print('Best parameters: {}'.format(grid_search.best_params_))\n",
    "print('Best cross-validation: {}'.format(grid_search.best_score_))"
   ]
  },
  {
   "cell_type": "markdown",
   "metadata": {},
   "source": [
    "# テストデータの分類結果を考察\n",
    "* 混合行列の使用\n",
    "* 以下の3つをを一目で理解\n",
    "1. #### 正解率（accuracy）…全テストデータの中で、誤分類なく正しく予測できた割合\n",
    "2. #### 再現率（recall）…テストデータが0であるときに、実際にモデルで0と予測する確率(混合行列の行で考える)\n",
    "3. #### 適合率（precision）…モデルで0と予測した時に、そのテストデータが本当に0である確率(混合行列の列で考える)"
   ]
  },
  {
   "cell_type": "code",
   "execution_count": 6,
   "metadata": {},
   "outputs": [
    {
     "name": "stdout",
     "output_type": "stream",
     "text": [
      "SVMでのアヤメの分類結果の混合行列(各行名・列名はラベル)\n"
     ]
    },
    {
     "data": {
      "text/plain": [
       "Text(91.68, 0.5, 'actual value')"
      ]
     },
     "execution_count": 6,
     "metadata": {},
     "output_type": "execute_result"
    },
    {
     "data": {
      "image/png": "[encoded data removed]",
      "text/plain": [
       "<Figure size 432x288 with 1 Axes>"
      ]
     },
     "metadata": {
      "needs_background": "light"
     },
     "output_type": "display_data"
    }
   ],
   "source": [
    "#混合行列の作成(正解値(y_test)と予測値(y_pred_tree)の用意)\n",
    "#→テストデータからモデルの再現性などを見る\n",
    "%matplotlib inline\n",
    "from sklearn.metrics import precision_score, confusion_matrix\n",
    "import seaborn as sns\n",
    "import matplotlib.pyplot as plt\n",
    "print(\"SVMでのアヤメの分類結果の混合行列(各行名・列名はラベル)\")\n",
    "y_pred_SVM = grid_search.predict(x_test)\n",
    "mat_SVM = confusion_matrix(y_test, y_pred_SVM)\n",
    "sns.heatmap(mat_SVM, square=True, annot=True, cbar=False, fmt=\"d\", cmap=\"RdPu\")\n",
    "plt.xlabel(\"predicted value\")\n",
    "plt.ylabel(\"actual value\")"
   ]
  }
 ],
 "metadata": {
  "kernelspec": {
   "display_name": "Python 3",
   "language": "python",
   "name": "python3"
  },
  "language_info": {
   "codemirror_mode": {
    "name": "ipython",
    "version": 3
   },
   "file_extension": ".py",
   "mimetype": "text/x-python",
   "name": "python",
   "nbconvert_exporter": "python",
   "pygments_lexer": "ipython3",
   "version": "3.7.3"
  }
 },
 "nbformat": 4,
 "nbformat_minor": 2
}
