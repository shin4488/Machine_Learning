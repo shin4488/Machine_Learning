{
 "cells": [
  {
   "cell_type": "markdown",
   "metadata": {},
   "source": [
    "# サポートベクターマシンの流れ\n",
    "・サポートベクターマシンのメリット\n",
    "\n",
    "①深層学習するほどデータ数がいらない\n",
    "\n",
    "②データの次元が大きくなっても識別精度がいい\n",
    "\n",
    "③いじるパラメータが少ない\n",
    "\n",
    "・参考サイト\n",
    "https://yolo.love/scikit-learn/iris/"
   ]
  },
  {
   "cell_type": "markdown",
   "metadata": {},
   "source": [
    "# 1. データの読み込み\n",
    "・ファイルの取り込みまたは、データのインポート\n",
    "\n",
    "・データの確認"
   ]
  },
  {
   "cell_type": "code",
   "execution_count": 11,
   "metadata": {},
   "outputs": [
    {
     "name": "stdout",
     "output_type": "stream",
     "text": [
      "(150, 5)\n"
     ]
    },
    {
     "data": {
      "text/html": [
       "<div>\n",
       "<style scoped>\n",
       "    .dataframe tbody tr th:only-of-type {\n",
       "        vertical-align: middle;\n",
       "    }\n",
       "\n",
       "    .dataframe tbody tr th {\n",
       "        vertical-align: top;\n",
       "    }\n",
       "\n",
       "    .dataframe thead th {\n",
       "        text-align: right;\n",
       "    }\n",
       "</style>\n",
       "<table border=\"1\" class=\"dataframe\">\n",
       "  <thead>\n",
       "    <tr style=\"text-align: right;\">\n",
       "      <th></th>\n",
       "      <th>SepalLength</th>\n",
       "      <th>SepalWidth</th>\n",
       "      <th>PetalLength</th>\n",
       "      <th>PetalWidth</th>\n",
       "      <th>Name</th>\n",
       "    </tr>\n",
       "  </thead>\n",
       "  <tbody>\n",
       "    <tr>\n",
       "      <th>0</th>\n",
       "      <td>5.1</td>\n",
       "      <td>3.5</td>\n",
       "      <td>1.4</td>\n",
       "      <td>0.2</td>\n",
       "      <td>Iris-setosa</td>\n",
       "    </tr>\n",
       "    <tr>\n",
       "      <th>1</th>\n",
       "      <td>4.9</td>\n",
       "      <td>3.0</td>\n",
       "      <td>1.4</td>\n",
       "      <td>0.2</td>\n",
       "      <td>Iris-setosa</td>\n",
       "    </tr>\n",
       "    <tr>\n",
       "      <th>2</th>\n",
       "      <td>4.7</td>\n",
       "      <td>3.2</td>\n",
       "      <td>1.3</td>\n",
       "      <td>0.2</td>\n",
       "      <td>Iris-setosa</td>\n",
       "    </tr>\n",
       "    <tr>\n",
       "      <th>3</th>\n",
       "      <td>4.6</td>\n",
       "      <td>3.1</td>\n",
       "      <td>1.5</td>\n",
       "      <td>0.2</td>\n",
       "      <td>Iris-setosa</td>\n",
       "    </tr>\n",
       "    <tr>\n",
       "      <th>4</th>\n",
       "      <td>5.0</td>\n",
       "      <td>3.6</td>\n",
       "      <td>1.4</td>\n",
       "      <td>0.2</td>\n",
       "      <td>Iris-setosa</td>\n",
       "    </tr>\n",
       "  </tbody>\n",
       "</table>\n",
       "</div>"
      ],
      "text/plain": [
       "   SepalLength  SepalWidth  PetalLength  PetalWidth         Name\n",
       "0          5.1         3.5          1.4         0.2  Iris-setosa\n",
       "1          4.9         3.0          1.4         0.2  Iris-setosa\n",
       "2          4.7         3.2          1.3         0.2  Iris-setosa\n",
       "3          4.6         3.1          1.5         0.2  Iris-setosa\n",
       "4          5.0         3.6          1.4         0.2  Iris-setosa"
      ]
     },
     "execution_count": 11,
     "metadata": {},
     "output_type": "execute_result"
    }
   ],
   "source": [
    "#方法1:csvファイルをpandasで取り込む\n",
    "import pandas as pd\n",
    "iris_data = pd.read_csv(\"iris.csv\", encoding=\"utf-8\")\n",
    "#方法2:scikit-learnからirisデータをインポート\n",
    "#from sklearn.datasets import load_iris\n",
    "#iris_dataset = load_iris()\n",
    "\n",
    "#データを確認する\n",
    "print(iris_data.shape)\n",
    "iris_data.head()"
   ]
  },
  {
   "cell_type": "markdown",
   "metadata": {},
   "source": [
    "# 2. データとラベルに分ける\n",
    "・データをラベル(y)と入力データ(x)に分離する"
   ]
  },
  {
   "cell_type": "code",
   "execution_count": 69,
   "metadata": {
    "scrolled": true
   },
   "outputs": [
    {
     "name": "stdout",
     "output_type": "stream",
     "text": [
      "0    Iris-setosa\n",
      "1    Iris-setosa\n",
      "2    Iris-setosa\n",
      "3    Iris-setosa\n",
      "4    Iris-setosa\n",
      "Name: Name, dtype: object\n"
     ]
    },
    {
     "data": {
      "text/html": [
       "<div>\n",
       "<style scoped>\n",
       "    .dataframe tbody tr th:only-of-type {\n",
       "        vertical-align: middle;\n",
       "    }\n",
       "\n",
       "    .dataframe tbody tr th {\n",
       "        vertical-align: top;\n",
       "    }\n",
       "\n",
       "    .dataframe thead th {\n",
       "        text-align: right;\n",
       "    }\n",
       "</style>\n",
       "<table border=\"1\" class=\"dataframe\">\n",
       "  <thead>\n",
       "    <tr style=\"text-align: right;\">\n",
       "      <th></th>\n",
       "      <th>SepalLength</th>\n",
       "      <th>SepalWidth</th>\n",
       "      <th>PetalLength</th>\n",
       "      <th>PetalWidth</th>\n",
       "    </tr>\n",
       "  </thead>\n",
       "  <tbody>\n",
       "    <tr>\n",
       "      <th>0</th>\n",
       "      <td>5.1</td>\n",
       "      <td>3.5</td>\n",
       "      <td>1.4</td>\n",
       "      <td>0.2</td>\n",
       "    </tr>\n",
       "    <tr>\n",
       "      <th>1</th>\n",
       "      <td>4.9</td>\n",
       "      <td>3.0</td>\n",
       "      <td>1.4</td>\n",
       "      <td>0.2</td>\n",
       "    </tr>\n",
       "    <tr>\n",
       "      <th>2</th>\n",
       "      <td>4.7</td>\n",
       "      <td>3.2</td>\n",
       "      <td>1.3</td>\n",
       "      <td>0.2</td>\n",
       "    </tr>\n",
       "    <tr>\n",
       "      <th>3</th>\n",
       "      <td>4.6</td>\n",
       "      <td>3.1</td>\n",
       "      <td>1.5</td>\n",
       "      <td>0.2</td>\n",
       "    </tr>\n",
       "    <tr>\n",
       "      <th>4</th>\n",
       "      <td>5.0</td>\n",
       "      <td>3.6</td>\n",
       "      <td>1.4</td>\n",
       "      <td>0.2</td>\n",
       "    </tr>\n",
       "  </tbody>\n",
       "</table>\n",
       "</div>"
      ],
      "text/plain": [
       "   SepalLength  SepalWidth  PetalLength  PetalWidth\n",
       "0          5.1         3.5          1.4         0.2\n",
       "1          4.9         3.0          1.4         0.2\n",
       "2          4.7         3.2          1.3         0.2\n",
       "3          4.6         3.1          1.5         0.2\n",
       "4          5.0         3.6          1.4         0.2"
      ]
     },
     "execution_count": 69,
     "metadata": {},
     "output_type": "execute_result"
    }
   ],
   "source": [
    "#アヤメデータをラベル(y)と入力データ(x)に分離する\n",
    "#y=Name列の全行を取得\n",
    "#x=Name以外の列(特徴量)を全行取得\n",
    "y = iris_data.loc[:, \"Name\"]\n",
    "# -> y = iris_data.Name\n",
    "x = iris_data.loc[:, [\"SepalLength\", \"SepalWidth\", \"PetalLength\", \"PetalWidth\"]]\n",
    "print(y.head())\n",
    "x.head()"
   ]
  },
  {
   "cell_type": "markdown",
   "metadata": {},
   "source": [
    "# 3. 学習用とテスト用データに分ける\n",
    "・xとyを学習用とテスト用に分ける\n",
    "\n",
    "・train_test_splitの使い方\n",
    "\n",
    "→1.戻り値は4つ(xの訓練データ、xのテストデータ、yの訓練データ、yのテストデータ、の順)\n",
    "\n",
    "→2.引数は、①特徴量x、②ラベルy、③テストデータの割合(test_size=)、(④訓練データの割合(train_size=))、\n",
    "   ⑤shuffle=true(デフォルト)のときデータを先頭から順番に分割する、\n",
    "   ⑥random_state=シャッフルするときに、実行するごとにデータの並び順を変えるか(None)変えないか(1)\n",
    "   \n",
    "*テストデータの割合と訓練データの割合の合計が、100%を超える値を指定するとエラーとなる"
   ]
  },
  {
   "cell_type": "code",
   "execution_count": 22,
   "metadata": {},
   "outputs": [
    {
     "name": "stdout",
     "output_type": "stream",
     "text": [
      "     SepalLength  SepalWidth  PetalLength  PetalWidth\n",
      "91           6.1         3.0          4.6         1.4\n",
      "135          7.7         3.0          6.1         2.3\n",
      "69           5.6         2.5          3.9         1.1\n",
      "128          6.4         2.8          5.6         2.1\n",
      "114          5.8         2.8          5.1         2.4\n",
      "(120, 4)\n",
      "     SepalLength  SepalWidth  PetalLength  PetalWidth\n",
      "14           5.8         4.0          1.2         0.2\n",
      "98           5.1         2.5          3.0         1.1\n",
      "75           6.6         3.0          4.4         1.4\n",
      "16           5.4         3.9          1.3         0.4\n",
      "131          7.9         3.8          6.4         2.0\n",
      "(30, 4)\n",
      "91     Iris-versicolor\n",
      "135     Iris-virginica\n",
      "69     Iris-versicolor\n",
      "128     Iris-virginica\n",
      "114     Iris-virginica\n",
      "Name: Name, dtype: object\n",
      "(120,)\n",
      "14         Iris-setosa\n",
      "98     Iris-versicolor\n",
      "75     Iris-versicolor\n",
      "16         Iris-setosa\n",
      "131     Iris-virginica\n",
      "Name: Name, dtype: object\n",
      "(30,)\n"
     ]
    }
   ],
   "source": [
    "from sklearn.model_selection import train_test_split\n",
    "# xとyを学習用とテスト用に分離する\n",
    "x_train, x_test, y_train, y_test = train_test_split(x, y, test_size = 0.2, train_size = 0.8, shuffle = True, random_state = 1)\n",
    "print(x_train.head())\n",
    "print(x_train.shape)\n",
    "print(x_test.head())\n",
    "print(x_test.shape)\n",
    "print(y_train.head())\n",
    "print(y_train.shape)\n",
    "print(y_test.head())\n",
    "print(y_test.shape)"
   ]
  },
  {
   "cell_type": "markdown",
   "metadata": {},
   "source": [
    "# 4. 学習させて評価する\n",
    "・学習する\n",
    "\n",
    "→ SVC().fit(特徴量(説明変数)の訓練データ, ラベルの訓練データ)\n",
    "\n",
    "★SVC()の引数\n",
    "\n",
    "①C=ソフトマージンの厳しさを表す(Cが大きいほど誤分類を許さない→大きすぎると過学習の原因、デフォルトは1)、②kernel=カーネル関数(線形カーネル，多項式カーネル，RBFカーネル，シグモイドカーネルなどがあるが，基本的にはRBFカーネルを使用)、③gamma=分類の決定境界を精度を決める(gammaが大きいほど決定境界は非線形になる)\n",
    "\n",
    "・評価する\n",
    "\n",
    "→ SVC().predict(特徴量(説明変数)のテストデータ)→ラベルの予測値が返される\n",
    "\n",
    "→ accuracy_score(ラベルの訓練データ, ラベルの予測値)で予測値の正解率が出る\n",
    "\n",
    "*正解率（accuracy）、適合率（precision）、再現率（recall）"
   ]
  },
  {
   "cell_type": "code",
   "execution_count": 34,
   "metadata": {},
   "outputs": [
    {
     "name": "stdout",
     "output_type": "stream",
     "text": [
      "0.9666666666666667\n"
     ]
    }
   ],
   "source": [
    "from sklearn.svm import SVC\n",
    "from sklearn.metrics import accuracy_score, precision_score, recall_score\n",
    "\n",
    "# 学習する(clfはclassificationの略語)\n",
    "clf = SVC(gamma = \"auto\")\n",
    "clf.fit(x_train, y_train)\n",
    "\n",
    "# 評価する\n",
    "y_pred = clf.predict(x_test)\n",
    "print(accuracy_score(y_test, y_pred))\n",
    "#print(precision_score(y_test, y_pred))\n",
    "#print(recall_score(y_test, y_pred))"
   ]
  },
  {
   "cell_type": "markdown",
   "metadata": {},
   "source": [
    "# (おまけ)グリッドサーチ→より正解率の高くなるパラメータを探索\n",
    "①param_gridで指定した全てのハイパーパラメータの組み合わせでモデルを作成\n",
    "\n",
    "②訓練データの一部を使って交差検証とグリッドサーチを実行\n",
    "\n",
    "③正解率が最も高い時のハイパーパラメータを採用"
   ]
  },
  {
   "cell_type": "code",
   "execution_count": 84,
   "metadata": {},
   "outputs": [
    {
     "name": "stdout",
     "output_type": "stream",
     "text": [
      "(105,)\n",
      "(45,)\n",
      "Test set score: 1.0\n",
      "Best parameters: {'C': 10, 'gamma': 0.1}\n",
      "Best cross-validation: 0.9809523809523809\n",
      "New data score: ['Iris-versicolor']\n"
     ]
    }
   ],
   "source": [
    "from sklearn.model_selection import GridSearchCV\n",
    "\n",
    "#★パラメータを dict 型で指定\n",
    "param_grid = {'C': [0.001, 0.01, 0.1, 0.5, 1, 5, 10, 50, 100],  'gamma' : [0.001, 0.01, 0.1, 0.5, 1, 5, 10, 50, 100]}\n",
    "\n",
    "# validation setはGridSearchCVが自動で作成してくれるため，訓練データとテストデータの分割のみを実行すればよい\n",
    "x_train, x_test, y_train, y_test = train_test_split(x, y, test_size = 0.3, random_state=1)\n",
    "print(y_train.shape)\n",
    "print(y_test.shape)\n",
    "\n",
    "grid_search = GridSearchCV(SVC(), param_grid, cv=10, iid=True)\n",
    "# GridSearchCVは、訓練データの一部のデータを交差検証とグリッドサーチに使用→訓練データが少なくなるとcv(交差検証の回数)は少なく設定\n",
    "# fit 関数を呼ぶことで交差検証とグリッドサーチがどちらも実行される\n",
    "grid_search.fit(x_train, y_train)\n",
    "\n",
    "print('Test set score: {}'.format(grid_search.score(x_test, y_test)))\n",
    "print('Best parameters: {}'.format(grid_search.best_params_))\n",
    "print('Best cross-validation: {}'.format(grid_search.best_score_))\n",
    "#新しい特徴量データから予測\n",
    "x_newData = [6, 3, 4, 1]\n",
    "print('New data score: {}'.format(grid_search.predict(x_newData)))"
   ]
  }
 ],
 "metadata": {
  "kernelspec": {
   "display_name": "Python 3",
   "language": "python",
   "name": "python3"
  },
  "language_info": {
   "codemirror_mode": {
    "name": "ipython",
    "version": 3
   },
   "file_extension": ".py",
   "mimetype": "text/x-python",
   "name": "python",
   "nbconvert_exporter": "python",
   "pygments_lexer": "ipython3",
   "version": "3.7.3"
  }
 },
 "nbformat": 4,
 "nbformat_minor": 2
}
