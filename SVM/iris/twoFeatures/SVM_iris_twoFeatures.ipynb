{
 "cells": [
  {
   "cell_type": "markdown",
   "metadata": {},
   "source": [
    "# *★classify iris data by suport vector machine★*"
   ]
  },
  {
   "cell_type": "markdown",
   "metadata": {},
   "source": [
    "## outline\n",
    "### 1. load data and confirm the contents of loaded data\n",
    "### 2. preprocessing for missing and categorical data\n",
    "### 3. extract features and labels\n",
    "### 4. preprocessing for scaling\n",
    "### 5. split features and labels into train and test data\n",
    "### 6. learning, then make a model by grid search\n",
    "### 7. show the results of output by test data(confusion matrix)"
   ]
  },
  {
   "cell_type": "markdown",
   "metadata": {},
   "source": [
    "## 1. load data and confirm contents"
   ]
  },
  {
   "cell_type": "code",
   "execution_count": 2,
   "metadata": {},
   "outputs": [
    {
     "name": "stdout",
     "output_type": "stream",
     "text": [
      "1. the labels & # of data for each labels\n",
      "versicolor    50\n",
      "virginica     50\n",
      "setosa        50\n",
      "dtype: int64 \n",
      "\n",
      "2. the contents of iris features and data (top 5)\n"
     ]
    },
    {
     "data": {
      "text/html": [
       "<div>\n",
       "<style scoped>\n",
       "    .dataframe tbody tr th:only-of-type {\n",
       "        vertical-align: middle;\n",
       "    }\n",
       "\n",
       "    .dataframe tbody tr th {\n",
       "        vertical-align: top;\n",
       "    }\n",
       "\n",
       "    .dataframe thead th {\n",
       "        text-align: right;\n",
       "    }\n",
       "</style>\n",
       "<table border=\"1\" class=\"dataframe\">\n",
       "  <thead>\n",
       "    <tr style=\"text-align: right;\">\n",
       "      <th></th>\n",
       "      <th>sepal length (cm)</th>\n",
       "      <th>sepal width (cm)</th>\n",
       "      <th>petal length (cm)</th>\n",
       "      <th>petal width (cm)</th>\n",
       "    </tr>\n",
       "  </thead>\n",
       "  <tbody>\n",
       "    <tr>\n",
       "      <th>0</th>\n",
       "      <td>5.1</td>\n",
       "      <td>3.5</td>\n",
       "      <td>1.4</td>\n",
       "      <td>0.2</td>\n",
       "    </tr>\n",
       "    <tr>\n",
       "      <th>1</th>\n",
       "      <td>4.9</td>\n",
       "      <td>3.0</td>\n",
       "      <td>1.4</td>\n",
       "      <td>0.2</td>\n",
       "    </tr>\n",
       "    <tr>\n",
       "      <th>2</th>\n",
       "      <td>4.7</td>\n",
       "      <td>3.2</td>\n",
       "      <td>1.3</td>\n",
       "      <td>0.2</td>\n",
       "    </tr>\n",
       "    <tr>\n",
       "      <th>3</th>\n",
       "      <td>4.6</td>\n",
       "      <td>3.1</td>\n",
       "      <td>1.5</td>\n",
       "      <td>0.2</td>\n",
       "    </tr>\n",
       "    <tr>\n",
       "      <th>4</th>\n",
       "      <td>5.0</td>\n",
       "      <td>3.6</td>\n",
       "      <td>1.4</td>\n",
       "      <td>0.2</td>\n",
       "    </tr>\n",
       "  </tbody>\n",
       "</table>\n",
       "</div>"
      ],
      "text/plain": [
       "   sepal length (cm)  sepal width (cm)  petal length (cm)  petal width (cm)\n",
       "0                5.1               3.5                1.4               0.2\n",
       "1                4.9               3.0                1.4               0.2\n",
       "2                4.7               3.2                1.3               0.2\n",
       "3                4.6               3.1                1.5               0.2\n",
       "4                5.0               3.6                1.4               0.2"
      ]
     },
     "execution_count": 2,
     "metadata": {},
     "output_type": "execute_result"
    }
   ],
   "source": [
    "# -*- coding: utf-8 -*-\n",
    "import warnings\n",
    "warnings.filterwarnings('ignore')\n",
    "#use iris datasets\n",
    "from sklearn.datasets import load_iris\n",
    "import pandas as pd\n",
    "iris = load_iris()\n",
    "df_iris_data = pd.DataFrame(iris.data, columns=iris.feature_names)\n",
    "df_iris_label = pd.Series(iris.target)\n",
    "print(\"1. the labels & # of data for each labels\")\n",
    "print(df_iris_label.replace([0,1,2], iris.target_names).value_counts(), \"\\n\")\n",
    "print(\"2. the contents of iris features and data (top 5)\")\n",
    "df_iris_data.head()"
   ]
  },
  {
   "cell_type": "markdown",
   "metadata": {},
   "source": [
    "## 2. preprocessing for missing and categorical data"
   ]
  },
  {
   "cell_type": "code",
   "execution_count": 3,
   "metadata": {},
   "outputs": [
    {
     "name": "stdout",
     "output_type": "stream",
     "text": [
      "<class 'pandas.core.frame.DataFrame'>\n",
      "RangeIndex: 150 entries, 0 to 149\n",
      "Data columns (total 4 columns):\n",
      "sepal length (cm)    150 non-null float64\n",
      "sepal width (cm)     150 non-null float64\n",
      "petal length (cm)    150 non-null float64\n",
      "petal width (cm)     150 non-null float64\n",
      "dtypes: float64(4)\n",
      "memory usage: 4.8 KB\n"
     ]
    }
   ],
   "source": [
    "#this data does not have missing and categorical data, so preprocessing is not conducted in this learning\n",
    "df_iris_data.info()"
   ]
  },
  {
   "cell_type": "markdown",
   "metadata": {},
   "source": [
    "## 3. extract features and labels"
   ]
  },
  {
   "cell_type": "code",
   "execution_count": 4,
   "metadata": {},
   "outputs": [
    {
     "name": "stdout",
     "output_type": "stream",
     "text": [
      "(# of total data, # of features used this time)\n",
      "(150, 2)\n"
     ]
    }
   ],
   "source": [
    "#this time, let's use third(petal length) and fourth(petal width) data of iris features\n",
    "x = df_iris_data.loc[:, [\"petal length (cm)\",\"petal width (cm)\"]]\n",
    "#x = df_iris_data.iloc[:, [2,3]] #-> same result shown that is extracted from pandas dataframe\n",
    "#labels are defined as \"y\"\n",
    "y = df_iris_label\n",
    "print(\"(# of total data, # of features used this time)\")\n",
    "print(x.shape)"
   ]
  },
  {
   "cell_type": "markdown",
   "metadata": {},
   "source": [
    "## 4. preprocessing for scaling"
   ]
  },
  {
   "cell_type": "code",
   "execution_count": 5,
   "metadata": {},
   "outputs": [
    {
     "name": "stdout",
     "output_type": "stream",
     "text": [
      "mean of feature data\n",
      "1. no scaled : \n",
      "petal length (cm)    3.758000\n",
      "petal width (cm)     1.199333\n",
      "dtype: float64\n",
      "2. StandardScaler :  -1.3278354108152521\n",
      "3. RobustScaler :  -0.11812698412698412\n"
     ]
    },
    {
     "data": {
      "text/plain": [
       "<matplotlib.legend.Legend at 0xc57783f60>"
      ]
     },
     "execution_count": 5,
     "metadata": {},
     "output_type": "execute_result"
    },
    {
     "data": {
      "image/png": "[encoded data removed]",
      "text/plain": [
       "<Figure size 432x288 with 1 Axes>"
      ]
     },
     "metadata": {
      "needs_background": "light"
     },
     "output_type": "display_data"
    }
   ],
   "source": [
    "#lest's try 2 types of scaling, StandardScaler, RobustScaler\n",
    "from sklearn.preprocessing import StandardScaler, RobustScaler\n",
    "sc = StandardScaler()\n",
    "x_sc = sc.fit_transform(x)\n",
    "rc = RobustScaler()\n",
    "x_rc = rc.fit_transform(x)\n",
    "print(\"mean of feature data\")\n",
    "print(\"1. no scaled : \\n{}\".format(x.mean()))\n",
    "print(\"2. StandardScaler : \", x_sc[0].mean())\n",
    "print(\"3. RobustScaler : \", x_rc.mean())\n",
    "\n",
    "%matplotlib inline\n",
    "#plot by scatter map\n",
    "import matplotlib.pyplot as plt\n",
    "plt.style.use('seaborn-bright')\n",
    "plt.scatter(x[\"petal length (cm)\"], x[\"petal width (cm)\"], label=\"not scaled\")\n",
    "plt.scatter(x_sc[:,0], x_sc[:,1], label=\"StandardScaler\")\n",
    "plt.scatter(x_rc[:,0], x_rc[:,1], label=\"RobustScaler\")\n",
    "plt.xlabel(\"petal length (cm)\")\n",
    "plt.ylabel(\"petal width (cm)\")\n",
    "plt.legend(loc='lower right', title=\"scaling type\")"
   ]
  },
  {
   "cell_type": "markdown",
   "metadata": {},
   "source": [
    "## 5. split features and labels into train and test data"
   ]
  },
  {
   "cell_type": "code",
   "execution_count": 6,
   "metadata": {},
   "outputs": [
    {
     "name": "stdout",
     "output_type": "stream",
     "text": [
      "# of data for train and test (no scaling, StandardScaler, RobustScaler -> should be same)\n",
      "for train (105, 2) (105, 2) (105, 2) \n",
      "for test  (45, 2) (45, 2) (45, 2)\n"
     ]
    }
   ],
   "source": [
    "#train data : 70%, test data : 30% are used\n",
    "from sklearn.model_selection import train_test_split\n",
    "x_train, x_test, y_train, y_test = train_test_split(x, y, test_size=0.3, random_state=1)\n",
    "x_train_sc, x_test_sc, y_train_sc, y_test_sc = train_test_split(x_sc, y, test_size=0.3, random_state=1)\n",
    "x_train_rc, x_test_rc, y_train_rc, y_test_rc = train_test_split(x_rc, y, test_size=0.3, random_state=1)\n",
    "print(\"# of data for train and test (no scaling, StandardScaler, RobustScaler -> should be same)\")\n",
    "print(\"for train\",x_train.shape,x_train_sc.shape,x_train_rc.shape, \"\\nfor test \",x_test.shape,x_test_sc.shape,x_test_rc.shape)"
   ]
  },
  {
   "cell_type": "markdown",
   "metadata": {},
   "source": [
    "## 6. Learning, then make a model by grid search"
   ]
  },
  {
   "cell_type": "code",
   "execution_count": 7,
   "metadata": {},
   "outputs": [
    {
     "name": "stdout",
     "output_type": "stream",
     "text": [
      "non scaled data\n",
      "Test set score: 0.978\n",
      "Best parameters: {'C': 0.05, 'gamma': 0.001, 'kernel': 'linear'}\n",
      "Best cross-validation: 0.971 \n",
      "\n",
      "StandardScaler\n",
      "Test set score: 0.956\n",
      "Best parameters: {'C': 0.1, 'gamma': 0.001, 'kernel': 'linear'}\n",
      "Best cross-validation: 0.962 \n",
      "\n",
      "RobustScaler\n",
      "Test set score: 0.956\n",
      "Best parameters: {'C': 0.5, 'gamma': 0.001, 'kernel': 'linear'}\n",
      "Best cross-validation: 0.962 \n",
      "\n"
     ]
    }
   ],
   "source": [
    "from sklearn.svm import SVC\n",
    "from sklearn.model_selection import GridSearchCV\n",
    "from sklearn.externals import joblib\n",
    "param_values = [0.001, 0.05, 0.1, 0.5, 1, 5, 10, 50, 100]\n",
    "param_grid = {\"C\": param_values, \"gamma\": param_values, \"kernel\":[\"linear\"]}\n",
    "grid_search_ns = GridSearchCV(SVC(random_state=1), param_grid, cv=5, iid=True)\n",
    "grid_search_ns.fit(x_train, y_train)\n",
    "grid_search_sc = GridSearchCV(SVC(random_state=1), param_grid, cv=5, iid=True)\n",
    "grid_search_sc.fit(x_train_sc, y_train_sc)\n",
    "grid_search_rc = GridSearchCV(SVC(random_state=1), param_grid, cv=5, iid=True)\n",
    "grid_search_rc.fit(x_train_rc, y_train_rc)\n",
    "\n",
    "joblib.dump(grid_search_ns, \"iris_SVC_nonScaled.pkl\")\n",
    "joblib.dump(grid_search_sc, \"iris_SVC_sc.pkl\")\n",
    "joblib.dump(grid_search_rc, \"iris_SVC_rc.pkl\")\n",
    "print(\"non scaled data\")\n",
    "print('Test set score: {0:.3f}'.format(grid_search_ns.score(x_test, y_test)))\n",
    "print('Best parameters: {}'.format(grid_search_ns.best_params_))\n",
    "print('Best cross-validation: {0:.3f}'.format(grid_search_ns.best_score_), \"\\n\")\n",
    "print(\"StandardScaler\")\n",
    "print('Test set score: {0:.3f}'.format(grid_search_sc.score(x_test_sc, y_test_sc)))\n",
    "print('Best parameters: {}'.format(grid_search_sc.best_params_))\n",
    "print('Best cross-validation: {0:.3f}'.format(grid_search_sc.best_score_), \"\\n\")\n",
    "print(\"RobustScaler\")\n",
    "print('Test set score: {0:.3f}'.format(grid_search_rc.score(x_test_rc, y_test_rc)))\n",
    "print('Best parameters: {}'.format(grid_search_rc.best_params_))\n",
    "print('Best cross-validation: {0:.3f}'.format(grid_search_rc.best_score_), \"\\n\")"
   ]
  },
  {
   "cell_type": "markdown",
   "metadata": {},
   "source": [
    "## 7. show the results of output by test data(confusion matrix)"
   ]
  },
  {
   "cell_type": "code",
   "execution_count": 9,
   "metadata": {},
   "outputs": [
    {
     "data": {
      "image/png": "[encoded data removed]",
      "text/plain": [
       "<Figure size 432x288 with 1 Axes>"
      ]
     },
     "metadata": {
      "needs_background": "light"
     },
     "output_type": "display_data"
    },
    {
     "data": {
      "image/png": "[encoded data removed]",
      "text/plain": [
       "<Figure size 432x288 with 1 Axes>"
      ]
     },
     "metadata": {
      "needs_background": "light"
     },
     "output_type": "display_data"
    }
   ],
   "source": [
    "from mlxtend.plotting import plot_decision_regions\n",
    "import numpy as np\n",
    "#combine the train and test data\n",
    "x_combined_ns = np.vstack((x_train, x_test))\n",
    "x_combined_sc = np.vstack((x_train_sc, x_test_sc))\n",
    "y_combined = np.hstack((y_train_sc, y_test_sc))\n",
    "\n",
    "#plot classification from raw data\n",
    "plot_decision_regions(x_combined_ns, y_combined, clf=grid_search_ns, res=0.02)\n",
    "plt.xlabel('petal length [raw data]')\n",
    "plt.ylabel('petal width [raw data]')\n",
    "plt.legend(loc='lower right')\n",
    "plt.tight_layout()\n",
    "plt.show()\n",
    "\n",
    "#plot classification from RobustScaled data\n",
    "plot_decision_regions(x_combined_sc, y_combined, clf=grid_search_sc,  res=0.02)\n",
    "plt.xlabel('petal length [StandardScaler]')\n",
    "plt.ylabel('petal width [StandardScaler]')\n",
    "plt.legend(loc='lower right')\n",
    "plt.tight_layout()\n",
    "plt.show()"
   ]
  },
  {
   "cell_type": "code",
   "execution_count": 10,
   "metadata": {},
   "outputs": [
    {
     "name": "stdout",
     "output_type": "stream",
     "text": [
      "confusion matrix by SVM (non scaled)\n"
     ]
    },
    {
     "data": {
      "image/png": "[encoded data removed]",
      "text/plain": [
       "<Figure size 432x288 with 1 Axes>"
      ]
     },
     "metadata": {
      "needs_background": "light"
     },
     "output_type": "display_data"
    },
    {
     "name": "stdout",
     "output_type": "stream",
     "text": [
      "confusion matrix by SVM (StandardScaler)\n"
     ]
    },
    {
     "data": {
      "image/png": "[encoded data removed]",
      "text/plain": [
       "<Figure size 432x288 with 1 Axes>"
      ]
     },
     "metadata": {
      "needs_background": "light"
     },
     "output_type": "display_data"
    }
   ],
   "source": [
    "from sklearn.metrics import accuracy_score, precision_score, confusion_matrix\n",
    "import seaborn as sns\n",
    "print(\"confusion matrix by SVM (non scaled)\")\n",
    "y_pred_SVM_ns = grid_search_ns.predict(x_test)\n",
    "mat_SVM_ns = confusion_matrix(y_test, y_pred_SVM_ns)\n",
    "sns.heatmap(mat_SVM_ns, square=True, annot=True, cbar=False, fmt=\"d\", cmap=\"RdPu\")\n",
    "plt.xlabel(\"predicted value\")\n",
    "plt.ylabel(\"actual value\")\n",
    "plt.show()\n",
    "\n",
    "print(\"confusion matrix by SVM (StandardScaler)\")\n",
    "y_pred_SVM_sc = grid_search_sc.predict(x_test_sc)\n",
    "mat_SVM_sc = confusion_matrix(y_test_sc, y_pred_SVM_sc)\n",
    "sns.heatmap(mat_SVM_sc, square=True, annot=True, cbar=False, fmt=\"d\", cmap=\"RdPu\")\n",
    "plt.xlabel(\"predicted value\")\n",
    "plt.ylabel(\"actual value\")\n",
    "plt.show()"
   ]
  }
 ],
 "metadata": {
  "kernelspec": {
   "display_name": "Python 3",
   "language": "python",
   "name": "python3"
  },
  "language_info": {
   "codemirror_mode": {
    "name": "ipython",
    "version": 3
   },
   "file_extension": ".py",
   "mimetype": "text/x-python",
   "name": "python",
   "nbconvert_exporter": "python",
   "pygments_lexer": "ipython3",
   "version": "3.7.3"
  }
 },
 "nbformat": 4,
 "nbformat_minor": 2
}
