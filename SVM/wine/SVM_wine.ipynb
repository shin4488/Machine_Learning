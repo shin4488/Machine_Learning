{
 "cells": [
  {
   "cell_type": "markdown",
   "metadata": {},
   "source": [
    "## サポートベクターマシンを使ったワインの種類あて\n",
    "\n",
    "### 流れ\n",
    "* データの取得・確認\n",
    "\n",
    "* 前処理(必要があれば)\n",
    "\n",
    "* データの分離(特徴量とラベル、訓練データとテストデータ)\n",
    "\n",
    "* 訓練データよりモデルを作成、テストデータからモデルの当てはまりの良さ(ここでは正解率を使用)を確認\n",
    "  →グリッドサーチにより、パラメータを複数候補用意した時の精度を確認\n",
    "\n",
    "* テスト用データでモデルのテスト"
   ]
  },
  {
   "cell_type": "code",
   "execution_count": 2,
   "metadata": {},
   "outputs": [],
   "source": [
    "#データの読み込み\n",
    "from sklearn.datasets import load_wine\n",
    "wine_data = load_wine()"
   ]
  },
  {
   "cell_type": "code",
   "execution_count": 3,
   "metadata": {},
   "outputs": [
    {
     "name": "stdout",
     "output_type": "stream",
     "text": [
      "(データ数, 特徴量の数) →  (178, 13) \n",
      "\n",
      "ワインの種類(=ラベル、今回は3種類)とそれぞれのデータ数\n",
      "class_1    71\n",
      "class_0    59\n",
      "class_2    48\n",
      "dtype: int64 \n",
      "\n",
      "ワインの特徴量(数値は全178データのうち5データの例)\n"
     ]
    },
    {
     "data": {
      "text/html": [
       "<div>\n",
       "<style scoped>\n",
       "    .dataframe tbody tr th:only-of-type {\n",
       "        vertical-align: middle;\n",
       "    }\n",
       "\n",
       "    .dataframe tbody tr th {\n",
       "        vertical-align: top;\n",
       "    }\n",
       "\n",
       "    .dataframe thead th {\n",
       "        text-align: right;\n",
       "    }\n",
       "</style>\n",
       "<table border=\"1\" class=\"dataframe\">\n",
       "  <thead>\n",
       "    <tr style=\"text-align: right;\">\n",
       "      <th></th>\n",
       "      <th>alcohol</th>\n",
       "      <th>malic_acid</th>\n",
       "      <th>ash</th>\n",
       "      <th>alcalinity_of_ash</th>\n",
       "      <th>magnesium</th>\n",
       "      <th>total_phenols</th>\n",
       "      <th>flavanoids</th>\n",
       "      <th>nonflavanoid_phenols</th>\n",
       "      <th>proanthocyanins</th>\n",
       "      <th>color_intensity</th>\n",
       "      <th>hue</th>\n",
       "      <th>od280/od315_of_diluted_wines</th>\n",
       "      <th>proline</th>\n",
       "    </tr>\n",
       "  </thead>\n",
       "  <tbody>\n",
       "    <tr>\n",
       "      <th>0</th>\n",
       "      <td>14.23</td>\n",
       "      <td>1.71</td>\n",
       "      <td>2.43</td>\n",
       "      <td>15.6</td>\n",
       "      <td>127.0</td>\n",
       "      <td>2.80</td>\n",
       "      <td>3.06</td>\n",
       "      <td>0.28</td>\n",
       "      <td>2.29</td>\n",
       "      <td>5.64</td>\n",
       "      <td>1.04</td>\n",
       "      <td>3.92</td>\n",
       "      <td>1065.0</td>\n",
       "    </tr>\n",
       "    <tr>\n",
       "      <th>1</th>\n",
       "      <td>13.20</td>\n",
       "      <td>1.78</td>\n",
       "      <td>2.14</td>\n",
       "      <td>11.2</td>\n",
       "      <td>100.0</td>\n",
       "      <td>2.65</td>\n",
       "      <td>2.76</td>\n",
       "      <td>0.26</td>\n",
       "      <td>1.28</td>\n",
       "      <td>4.38</td>\n",
       "      <td>1.05</td>\n",
       "      <td>3.40</td>\n",
       "      <td>1050.0</td>\n",
       "    </tr>\n",
       "    <tr>\n",
       "      <th>2</th>\n",
       "      <td>13.16</td>\n",
       "      <td>2.36</td>\n",
       "      <td>2.67</td>\n",
       "      <td>18.6</td>\n",
       "      <td>101.0</td>\n",
       "      <td>2.80</td>\n",
       "      <td>3.24</td>\n",
       "      <td>0.30</td>\n",
       "      <td>2.81</td>\n",
       "      <td>5.68</td>\n",
       "      <td>1.03</td>\n",
       "      <td>3.17</td>\n",
       "      <td>1185.0</td>\n",
       "    </tr>\n",
       "    <tr>\n",
       "      <th>3</th>\n",
       "      <td>14.37</td>\n",
       "      <td>1.95</td>\n",
       "      <td>2.50</td>\n",
       "      <td>16.8</td>\n",
       "      <td>113.0</td>\n",
       "      <td>3.85</td>\n",
       "      <td>3.49</td>\n",
       "      <td>0.24</td>\n",
       "      <td>2.18</td>\n",
       "      <td>7.80</td>\n",
       "      <td>0.86</td>\n",
       "      <td>3.45</td>\n",
       "      <td>1480.0</td>\n",
       "    </tr>\n",
       "    <tr>\n",
       "      <th>4</th>\n",
       "      <td>13.24</td>\n",
       "      <td>2.59</td>\n",
       "      <td>2.87</td>\n",
       "      <td>21.0</td>\n",
       "      <td>118.0</td>\n",
       "      <td>2.80</td>\n",
       "      <td>2.69</td>\n",
       "      <td>0.39</td>\n",
       "      <td>1.82</td>\n",
       "      <td>4.32</td>\n",
       "      <td>1.04</td>\n",
       "      <td>2.93</td>\n",
       "      <td>735.0</td>\n",
       "    </tr>\n",
       "  </tbody>\n",
       "</table>\n",
       "</div>"
      ],
      "text/plain": [
       "   alcohol  malic_acid   ash  alcalinity_of_ash  magnesium  total_phenols  \\\n",
       "0    14.23        1.71  2.43               15.6      127.0           2.80   \n",
       "1    13.20        1.78  2.14               11.2      100.0           2.65   \n",
       "2    13.16        2.36  2.67               18.6      101.0           2.80   \n",
       "3    14.37        1.95  2.50               16.8      113.0           3.85   \n",
       "4    13.24        2.59  2.87               21.0      118.0           2.80   \n",
       "\n",
       "   flavanoids  nonflavanoid_phenols  proanthocyanins  color_intensity   hue  \\\n",
       "0        3.06                  0.28             2.29             5.64  1.04   \n",
       "1        2.76                  0.26             1.28             4.38  1.05   \n",
       "2        3.24                  0.30             2.81             5.68  1.03   \n",
       "3        3.49                  0.24             2.18             7.80  0.86   \n",
       "4        2.69                  0.39             1.82             4.32  1.04   \n",
       "\n",
       "   od280/od315_of_diluted_wines  proline  \n",
       "0                          3.92   1065.0  \n",
       "1                          3.40   1050.0  \n",
       "2                          3.17   1185.0  \n",
       "3                          3.45   1480.0  \n",
       "4                          2.93    735.0  "
      ]
     },
     "execution_count": 3,
     "metadata": {},
     "output_type": "execute_result"
    }
   ],
   "source": [
    "#データの中身の確認\n",
    "import pandas as pd\n",
    "#DataFrame:2次元データ加工用、Series:1次元データ加工用\n",
    "df_wine_data = pd.DataFrame(wine_data.data, columns=wine_data.feature_names)\n",
    "df_wine_class = pd.Series(wine_data.target)\n",
    "print(\"(データ数, 特徴量の数) → \", wine_data.data.shape, \"\\n\")\n",
    "print(\"ワインの種類(=ラベル、今回は3種類)とそれぞれのデータ数\")\n",
    "#ワイン数値ラベル(0,1,2)を文字ラベルに置き換えて、ラベルごとのデータ数を取得\n",
    "print(df_wine_class.replace([0,1,2], wine_data.target_names).value_counts(), \"\\n\")\n",
    "print(\"ワインの特徴量(数値は全178データのうち5データの例)\")\n",
    "df_wine_data.head()"
   ]
  },
  {
   "cell_type": "code",
   "execution_count": 6,
   "metadata": {},
   "outputs": [
    {
     "name": "stdout",
     "output_type": "stream",
     "text": [
      "<class 'pandas.core.frame.DataFrame'>\n",
      "RangeIndex: 178 entries, 0 to 177\n",
      "Data columns (total 13 columns):\n",
      "alcohol                         178 non-null float64\n",
      "malic_acid                      178 non-null float64\n",
      "ash                             178 non-null float64\n",
      "alcalinity_of_ash               178 non-null float64\n",
      "magnesium                       178 non-null float64\n",
      "total_phenols                   178 non-null float64\n",
      "flavanoids                      178 non-null float64\n",
      "nonflavanoid_phenols            178 non-null float64\n",
      "proanthocyanins                 178 non-null float64\n",
      "color_intensity                 178 non-null float64\n",
      "hue                             178 non-null float64\n",
      "od280/od315_of_diluted_wines    178 non-null float64\n",
      "proline                         178 non-null float64\n",
      "dtypes: float64(13)\n",
      "memory usage: 18.2 KB\n"
     ]
    }
   ],
   "source": [
    "df_wine_data.info()"
   ]
  },
  {
   "cell_type": "code",
   "execution_count": 4,
   "metadata": {},
   "outputs": [],
   "source": [
    "#特徴量データ(x)とラベル(y)に分ける\n",
    "x = df_wine_data\n",
    "y = df_wine_class"
   ]
  },
  {
   "cell_type": "code",
   "execution_count": 13,
   "metadata": {},
   "outputs": [
    {
     "name": "stdout",
     "output_type": "stream",
     "text": [
      "x_train_scaled (106, 13)\n",
      "x_test_scaled (72, 13)\n"
     ]
    }
   ],
   "source": [
    "#xとyを学習用とテスト用データに分ける\n",
    "from sklearn.model_selection import train_test_split\n",
    "from sklearn.preprocessing import StandardScaler\n",
    "x_train, x_test, y_train, y_test = train_test_split(x, y, test_size=0.4, shuffle=True, random_state=1)\n",
    "#各変数の距離を等しく評価するためにスケーリング(外れ値を考慮するために標準化(平均1、分散0にデータを変換))\n",
    "x_train_scaled = StandardScaler().fit_transform(x_train)\n",
    "x_test_scaled = StandardScaler().fit_transform(x_test)\n",
    "print(\"x_train_scaled\", x_train_scaled.shape)\n",
    "print(\"x_test_scaled\", x_test_scaled.shape)"
   ]
  },
  {
   "cell_type": "code",
   "execution_count": 12,
   "metadata": {},
   "outputs": [
    {
     "name": "stdout",
     "output_type": "stream",
     "text": [
      "Test set score: 0.9861111111111112\n",
      "Best parameters: {'C': 5, 'gamma': 0.001, 'kernel': 'rbf'}\n",
      "Best cross-validation: 0.9811320754716981\n"
     ]
    }
   ],
   "source": [
    "#学習させて評価する\n",
    "#グリッドサーチ(より正解率の高くなるパラメータを探索)\n",
    "from sklearn.svm import SVC\n",
    "from sklearn.model_selection import GridSearchCV\n",
    "param_values = [0.001, 0.05, 0.1, 0.5, 1, 5, 10, 50, 100]\n",
    "param_grid = {\"C\": param_values, \"kernel\": [\"rbf\"], \"gamma\": param_values}\n",
    "grid_search = GridSearchCV(SVC(), param_grid, cv=5, iid=True)\n",
    "# GridSearchCVは、訓練データの一部のデータを交差検証とグリッドサーチに使用→訓練データが少なくなるとcv(交差検証の回数)は少なく設定\n",
    "# fit 関数を呼ぶことで交差検証とグリッドサーチがどちらも実行される\n",
    "grid_search.fit(x_train_scaled, y_train)\n",
    "#学習済みデータを保存\n",
    "from sklearn.externals import joblib\n",
    "joblib.dump(grid_search, \"wine.pkl\")\n",
    "\n",
    "print('Test set score: {}'.format(grid_search.score(x_test_scaled, y_test)))\n",
    "print('Best parameters: {}'.format(grid_search.best_params_))\n",
    "print('Best cross-validation: {}'.format(grid_search.best_score_))"
   ]
  },
  {
   "cell_type": "code",
   "execution_count": 15,
   "metadata": {},
   "outputs": [
    {
     "name": "stdout",
     "output_type": "stream",
     "text": [
      "SVMでの分類結果の混合行列(各行名・列名はラベル)\n"
     ]
    },
    {
     "data": {
      "text/plain": [
       "Text(91.68, 0.5, 'actual value')"
      ]
     },
     "execution_count": 15,
     "metadata": {},
     "output_type": "execute_result"
    },
    {
     "data": {
      "image/png": "[encoded data removed]",
      "text/plain": [
       "<Figure size 432x288 with 1 Axes>"
      ]
     },
     "metadata": {
      "needs_background": "light"
     },
     "output_type": "display_data"
    }
   ],
   "source": [
    "#混合行列の作成(正解値(y_test)と予測値(y_pred_tree)の用意)\n",
    "#→テストデータからモデルの再現性などを見る\n",
    "%matplotlib inline\n",
    "from sklearn.metrics import accuracy_score, precision_score, confusion_matrix\n",
    "import seaborn as sns\n",
    "import matplotlib.pyplot as plt\n",
    "print(\"SVMでの分類結果の混合行列(各行名・列名はラベル)\")\n",
    "y_pred_SVM = grid_search.predict(x_test_scaled)\n",
    "mat_SVM = confusion_matrix(y_test, y_pred_SVM)\n",
    "sns.heatmap(mat_SVM, square=True, annot=True, cbar=False, fmt=\"d\", cmap=\"RdPu\")\n",
    "plt.xlabel(\"predicted value\")\n",
    "plt.ylabel(\"actual value\")"
   ]
  }
 ],
 "metadata": {
  "kernelspec": {
   "display_name": "Python 3",
   "language": "python",
   "name": "python3"
  },
  "language_info": {
   "codemirror_mode": {
    "name": "ipython",
    "version": 3
   },
   "file_extension": ".py",
   "mimetype": "text/x-python",
   "name": "python",
   "nbconvert_exporter": "python",
   "pygments_lexer": "ipython3",
   "version": "3.7.3"
  }
 },
 "nbformat": 4,
 "nbformat_minor": 2
}
